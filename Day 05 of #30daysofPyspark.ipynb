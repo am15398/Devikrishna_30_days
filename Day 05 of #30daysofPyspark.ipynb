{
 "cells": [
  {
   "cell_type": "code",
   "execution_count": 0,
   "metadata": {
    "application/vnd.databricks.v1+cell": {
     "cellMetadata": {
      "byteLimit": 2048000,
      "rowLimit": 10000
     },
     "inputWidgets": {},
     "nuid": "acac3a1c-8a7b-4b52-b596-1085642e47d5",
     "showTitle": false,
     "title": ""
    }
   },
   "outputs": [],
   "source": [
    "from pyspark.sql.functions import sum,desc,avg,count"
   ]
  },
  {
   "cell_type": "code",
   "execution_count": 0,
   "metadata": {
    "application/vnd.databricks.v1+cell": {
     "cellMetadata": {
      "byteLimit": 2048000,
      "rowLimit": 10000
     },
     "inputWidgets": {},
     "nuid": "20a53156-2f43-4f25-9c68-78b45feba65b",
     "showTitle": false,
     "title": ""
    }
   },
   "outputs": [
    {
     "output_type": "stream",
     "name": "stdout",
     "output_type": "stream",
     "text": [
      "+--------+-----------+----------+------------+\n|order_id|customer_id|order_date|total_amount|\n+--------+-----------+----------+------------+\n|       1|       C101|2023-07-01|         150|\n|       2|       C102|2023-07-02|         200|\n|       3|       C101|2023-07-02|         100|\n|       4|       C103|2023-07-03|         300|\n|       5|       C102|2023-07-04|         250|\n|       6|       C101|2023-07-05|         120|\n+--------+-----------+----------+------------+\n\n"
     ]
    }
   ],
   "source": [
    "from pyspark.sql import SparkSession\n",
    "\n",
    "spark=SparkSession.builder.appName(\"OrderAnalysis\").getOrCreate()\n",
    "data=[\n",
    "    (1,\"C101\",\"2023-07-01\",150),\n",
    "(2,\"C102\",\"2023-07-02\",200),\n",
    "(3,\"C101\",\"2023-07-02\",100),\n",
    "(4,\"C103\",\"2023-07-03\",300),\n",
    "(5,\"C102\",\"2023-07-04\",250),\n",
    "(6,\"C101\",\"2023-07-05\",120)\n",
    "]\n",
    "col=[\"order_id\",\"customer_id\",\"order_date\",\"total_amount\"]\n",
    "df=spark.createDataFrame(data,col)\n",
    "df.show()"
   ]
  },
  {
   "cell_type": "markdown",
   "metadata": {
    "application/vnd.databricks.v1+cell": {
     "cellMetadata": {
      "byteLimit": 2048000,
      "rowLimit": 10000
     },
     "inputWidgets": {},
     "nuid": "f1c8ee7b-996d-49af-9d6d-2aff27d39797",
     "showTitle": false,
     "title": ""
    }
   },
   "source": [
    "<h3>𝐂𝐚𝐥𝐜𝐮𝐥𝐚𝐭𝐞 𝐭𝐡𝐞 𝐭𝐨𝐭𝐚𝐥 𝐫𝐞𝐯𝐞𝐧𝐮𝐞 𝐠𝐞𝐧𝐞𝐫𝐚𝐭𝐞𝐝 𝐟𝐫𝐨𝐦 𝐚𝐥𝐥 𝐨𝐫𝐝𝐞𝐫𝐬.<\\h3>"
   ]
  },
  {
   "cell_type": "code",
   "execution_count": 0,
   "metadata": {
    "application/vnd.databricks.v1+cell": {
     "cellMetadata": {
      "byteLimit": 2048000,
      "rowLimit": 10000
     },
     "inputWidgets": {},
     "nuid": "c83310af-e96d-43ab-8f0a-0c87783d2e33",
     "showTitle": false,
     "title": ""
    }
   },
   "outputs": [
    {
     "output_type": "stream",
     "name": "stdout",
     "output_type": "stream",
     "text": [
      "+-------------+\n|total_revenue|\n+-------------+\n|         1120|\n+-------------+\n\n"
     ]
    }
   ],
   "source": [
    "df1=df.agg(sum(\"total_amount\").alias(\"total_revenue\"))\n",
    "df1.show()"
   ]
  },
  {
   "cell_type": "markdown",
   "metadata": {
    "application/vnd.databricks.v1+cell": {
     "cellMetadata": {
      "byteLimit": 2048000,
      "rowLimit": 10000
     },
     "inputWidgets": {},
     "nuid": "00148141-242c-4c6d-a56d-97a667b7fc4e",
     "showTitle": false,
     "title": ""
    }
   },
   "source": [
    "<h3>𝐅𝐢𝐧𝐝 𝐭𝐡𝐞 𝐚𝐯𝐞𝐫𝐚𝐠𝐞 𝐨𝐫𝐝𝐞𝐫 𝐚𝐦𝐨𝐮𝐧𝐭.<\\h3>"
   ]
  },
  {
   "cell_type": "code",
   "execution_count": 0,
   "metadata": {
    "application/vnd.databricks.v1+cell": {
     "cellMetadata": {
      "byteLimit": 2048000,
      "rowLimit": 10000
     },
     "inputWidgets": {},
     "nuid": "9296be7d-3180-4e39-bc42-50b021edc6c7",
     "showTitle": false,
     "title": ""
    }
   },
   "outputs": [
    {
     "output_type": "stream",
     "name": "stdout",
     "output_type": "stream",
     "text": [
      "+------------------+\n|           avg_amt|\n+------------------+\n|186.66666666666666|\n+------------------+\n\n"
     ]
    }
   ],
   "source": [
    "df2=df.agg(avg(\"total_amount\").alias(\"avg_amt\"))\n",
    "df2.show()"
   ]
  },
  {
   "cell_type": "markdown",
   "metadata": {
    "application/vnd.databricks.v1+cell": {
     "cellMetadata": {},
     "inputWidgets": {},
     "nuid": "aacce225-ccc5-481e-9d1f-47bcc9a3da15",
     "showTitle": false,
     "title": ""
    }
   },
   "source": [
    "<h3>𝐈𝐝𝐞𝐧𝐭𝐢𝐟𝐲 𝐭𝐡𝐞 𝐡𝐢𝐠𝐡𝐞𝐬𝐭 𝐭𝐨𝐭𝐚𝐥 𝐨𝐫𝐝𝐞𝐫 𝐚𝐦𝐨𝐮𝐧𝐭 𝐚𝐧𝐝 𝐢𝐭𝐬 𝐜𝐨𝐫𝐫𝐞𝐬𝐩𝐨𝐧𝐝𝐢𝐧𝐠 𝐜𝐮𝐬𝐭𝐨𝐦𝐞𝐫.<\\h3>"
   ]
  },
  {
   "cell_type": "code",
   "execution_count": 0,
   "metadata": {
    "application/vnd.databricks.v1+cell": {
     "cellMetadata": {
      "byteLimit": 2048000,
      "rowLimit": 10000
     },
     "inputWidgets": {},
     "nuid": "6b963716-f577-4fa3-a82a-de396686332c",
     "showTitle": false,
     "title": ""
    }
   },
   "outputs": [
    {
     "output_type": "stream",
     "name": "stdout",
     "output_type": "stream",
     "text": [
      "+-----------+------------+\n|customer_id|total_amount|\n+-----------+------------+\n|       C103|         300|\n+-----------+------------+\n\n"
     ]
    }
   ],
   "source": [
    "df3=df.orderBy(df.total_amount.desc()).limit(1).select (\"customer_id\",\"total_amount\")\n",
    "df3.show()"
   ]
  },
  {
   "cell_type": "markdown",
   "metadata": {
    "application/vnd.databricks.v1+cell": {
     "cellMetadata": {},
     "inputWidgets": {},
     "nuid": "1189f661-31b4-477c-88f2-26c00722fccc",
     "showTitle": false,
     "title": ""
    }
   },
   "source": [
    "<h3>𝐂𝐚𝐥𝐜𝐮𝐥𝐚𝐭𝐞 𝐭𝐡𝐞 𝐭𝐨𝐭𝐚𝐥 𝐧𝐮𝐦𝐛𝐞𝐫 𝐨𝐟 𝐨𝐫𝐝𝐞𝐫𝐬 𝐟𝐨𝐫 𝐞𝐚𝐜𝐡 𝐜𝐮𝐬𝐭𝐨𝐦𝐞𝐫.<\\h3>"
   ]
  },
  {
   "cell_type": "code",
   "execution_count": 0,
   "metadata": {
    "application/vnd.databricks.v1+cell": {
     "cellMetadata": {
      "byteLimit": 2048000,
      "rowLimit": 10000
     },
     "inputWidgets": {},
     "nuid": "8b3f90d6-501d-473d-9fb3-10f49f38781d",
     "showTitle": false,
     "title": ""
    }
   },
   "outputs": [
    {
     "output_type": "stream",
     "name": "stdout",
     "output_type": "stream",
     "text": [
      "+-----------+---------+\n|customer_id|tot_order|\n+-----------+---------+\n|       C101|        3|\n|       C102|        2|\n|       C103|        1|\n+-----------+---------+\n\n"
     ]
    }
   ],
   "source": [
    "df1=df.groupBy(\"customer_id\").agg(count(\"customer_id\").alias(\"tot_order\"))\n",
    "df1.show()"
   ]
  }
 ],
 "metadata": {
  "application/vnd.databricks.v1+notebook": {
   "dashboards": [],
   "language": "python",
   "notebookMetadata": {
    "pythonIndentUnit": 4
   },
   "notebookName": "Day 05 of #30daysofPyspark",
   "widgets": {}
  }
 },
 "nbformat": 4,
 "nbformat_minor": 0
}
