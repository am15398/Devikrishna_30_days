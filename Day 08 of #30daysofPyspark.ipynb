{
 "cells": [
  {
   "cell_type": "code",
   "execution_count": 0,
   "metadata": {
    "application/vnd.databricks.v1+cell": {
     "cellMetadata": {
      "byteLimit": 2048000,
      "rowLimit": 10000
     },
     "inputWidgets": {},
     "nuid": "acac3a1c-8a7b-4b52-b596-1085642e47d5",
     "showTitle": false,
     "title": ""
    }
   },
   "outputs": [],
   "source": [
    "from pyspark.sql.functions import sum,desc,avg,count,max,col,lag\n",
    "from pyspark.sql.window import Window"
   ]
  },
  {
   "cell_type": "markdown",
   "metadata": {
    "application/vnd.databricks.v1+cell": {
     "cellMetadata": {},
     "inputWidgets": {},
     "nuid": "b4d26a58-2da7-4f1d-8175-a90d30cc9544",
     "showTitle": false,
     "title": ""
    }
   },
   "source": [
    "<h3>dataset 1<\\h3>"
   ]
  },
  {
   "cell_type": "code",
   "execution_count": 0,
   "metadata": {
    "application/vnd.databricks.v1+cell": {
     "cellMetadata": {
      "byteLimit": 2048000,
      "rowLimit": 10000
     },
     "inputWidgets": {},
     "nuid": "20a53156-2f43-4f25-9c68-78b45feba65b",
     "showTitle": false,
     "title": ""
    }
   },
   "outputs": [
    {
     "output_type": "stream",
     "name": "stdout",
     "output_type": "stream",
     "text": [
      "+-------+-------------------+\n|user_id|          timestamp|\n+-------+-------------------+\n|  user1|2023-08-21 10:00:00|\n|  user2|2023-08-21 11:30:00|\n|  user1|2023-08-21 12:15:00|\n|  user3|2023-08-21 13:45:00|\n|  user2|2023-08-21 14:30:00|\n|  user1|2023-08-21 15:00:00|\n+-------+-------------------+\n\n"
     ]
    }
   ],
   "source": [
    "from pyspark.sql import SparkSession\n",
    "spark=SparkSession.builder.appName(\"user_info\").getOrCreate()\n",
    "\n",
    "\n",
    "columns = [\"user_id\", \"timestamp\"]\n",
    "\n",
    "data= [(\"user1\", \"2023-08-21 10:00:00\"),\n",
    "(\"user2\", \"2023-08-21 11:30:00\"),\n",
    "(\"user1\", \"2023-08-21 12:15:00\"),\n",
    "(\"user3\", \"2023-08-21 13:45:00\"),\n",
    "(\"user2\", \"2023-08-21 14:30:00\"),\n",
    "(\"user1\", \"2023-08-21 15:00:00\")]\n",
    "\n",
    "df=spark.createDataFrame(data,columns)\n",
    "df.show()\n"
   ]
  },
  {
   "cell_type": "markdown",
   "metadata": {
    "application/vnd.databricks.v1+cell": {
     "cellMetadata": {
      "byteLimit": 2048000,
      "rowLimit": 10000
     },
     "inputWidgets": {},
     "nuid": "f1c8ee7b-996d-49af-9d6d-2aff27d39797",
     "showTitle": false,
     "title": ""
    }
   },
   "source": [
    "<h3>𝐅𝐢𝐧𝐝 𝐭𝐡𝐞 𝐞𝐚𝐫𝐥𝐢𝐞𝐬𝐭 𝐚𝐧𝐝 𝐥𝐚𝐭𝐞𝐬𝐭 𝐭𝐢𝐦𝐞𝐬𝐭𝐚𝐦𝐩𝐬 𝐢𝐧 𝐭𝐡𝐞 𝐝𝐚𝐭𝐚𝐬𝐞𝐭.<\\h3>"
   ]
  },
  {
   "cell_type": "code",
   "execution_count": 0,
   "metadata": {
    "application/vnd.databricks.v1+cell": {
     "cellMetadata": {
      "byteLimit": 2048000,
      "rowLimit": 10000
     },
     "inputWidgets": {},
     "nuid": "c83310af-e96d-43ab-8f0a-0c87783d2e33",
     "showTitle": false,
     "title": ""
    }
   },
   "outputs": [
    {
     "output_type": "stream",
     "name": "stdout",
     "output_type": "stream",
     "text": [
      "+-------------------+\n|   latest_timestamp|\n+-------------------+\n|2023-08-21 15:00:00|\n+-------------------+\n\n"
     ]
    }
   ],
   "source": [
    "df.agg(max(\"timestamp\").alias(\"latest_timestamp\")).show()"
   ]
  },
  {
   "cell_type": "markdown",
   "metadata": {
    "application/vnd.databricks.v1+cell": {
     "cellMetadata": {
      "byteLimit": 2048000,
      "rowLimit": 10000
     },
     "inputWidgets": {},
     "nuid": "00148141-242c-4c6d-a56d-97a667b7fc4e",
     "showTitle": false,
     "title": ""
    }
   },
   "source": [
    "<h3>𝐂𝐨𝐮𝐧𝐭 𝐭𝐡𝐞 𝐧𝐮𝐦𝐛𝐞𝐫 𝐨𝐟 𝐚𝐜𝐭𝐢𝐯𝐢𝐭𝐢𝐞𝐬 𝐩𝐞𝐫 𝐮𝐬𝐞𝐫.<\\h3>"
   ]
  },
  {
   "cell_type": "code",
   "execution_count": 0,
   "metadata": {
    "application/vnd.databricks.v1+cell": {
     "cellMetadata": {
      "byteLimit": 2048000,
      "rowLimit": 10000
     },
     "inputWidgets": {},
     "nuid": "9296be7d-3180-4e39-bc42-50b021edc6c7",
     "showTitle": false,
     "title": ""
    }
   },
   "outputs": [
    {
     "output_type": "stream",
     "name": "stdout",
     "output_type": "stream",
     "text": [
      "+-------+-----+\n|user_id|count|\n+-------+-----+\n|  user1|    3|\n|  user2|    2|\n|  user3|    1|\n+-------+-----+\n\n"
     ]
    }
   ],
   "source": [
    "df.groupBy(\"user_id\").count().show()\n"
   ]
  },
  {
   "cell_type": "markdown",
   "metadata": {
    "application/vnd.databricks.v1+cell": {
     "cellMetadata": {},
     "inputWidgets": {},
     "nuid": "7eae986b-5285-4ad9-998e-cfe8c1dd41df",
     "showTitle": false,
     "title": ""
    }
   },
   "source": [
    "<h3>𝐂𝐚𝐥𝐜𝐮𝐥𝐚𝐭𝐞 𝐭𝐡𝐞 𝐭𝐢𝐦𝐞 𝐝𝐮𝐫𝐚𝐭𝐢𝐨𝐧 𝐛𝐞𝐭𝐰𝐞𝐞𝐧 𝐜𝐨𝐧𝐬𝐞𝐜𝐮𝐭𝐢𝐯𝐞 𝐚𝐜𝐭𝐢𝐯𝐢𝐭𝐢𝐞𝐬 𝐟𝐨𝐫 𝐞𝐚𝐜𝐡 𝐮𝐬𝐞𝐫.</h3>"
   ]
  },
  {
   "cell_type": "code",
   "execution_count": 0,
   "metadata": {
    "application/vnd.databricks.v1+cell": {
     "cellMetadata": {
      "byteLimit": 2048000,
      "rowLimit": 10000
     },
     "inputWidgets": {},
     "nuid": "4b676b1d-db3d-43cd-8243-ac9153002aa6",
     "showTitle": false,
     "title": ""
    }
   },
   "outputs": [
    {
     "output_type": "stream",
     "name": "stdout",
     "output_type": "stream",
     "text": [
      "+-------+-------------------+-------------------+-------------+\n|user_id|          timestamp|           lag_time|time_duration|\n+-------+-------------------+-------------------+-------------+\n|  user1|2023-08-21 10:00:00|               null|         null|\n|  user1|2023-08-21 12:15:00|2023-08-21 10:00:00|         8100|\n|  user1|2023-08-21 15:00:00|2023-08-21 12:15:00|         9900|\n|  user2|2023-08-21 11:30:00|               null|         null|\n|  user2|2023-08-21 14:30:00|2023-08-21 11:30:00|        10800|\n|  user3|2023-08-21 13:45:00|               null|         null|\n+-------+-------------------+-------------------+-------------+\n\n"
     ]
    }
   ],
   "source": [
    "df = df.withColumn(\"timestamp\", df[\"timestamp\"].cast(\"timestamp\"))\n",
    "df1=df.withColumn(\"lag_time\",lag(\"timestamp\").over(Window.partitionBy(\"user_id\").orderBy(\"timestamp\")))\n",
    "df1.withColumn(\"time_duration\",col(\"timestamp\").cast(\"long\")-col(\"lag_time\").cast(\"long\")).show()"
   ]
  },
  {
   "cell_type": "markdown",
   "metadata": {
    "application/vnd.databricks.v1+cell": {
     "cellMetadata": {},
     "inputWidgets": {},
     "nuid": "377a90ab-531d-4192-9cc4-7d8f6dd2fa9b",
     "showTitle": false,
     "title": ""
    }
   },
   "source": [
    "<h3>Data set 2</h3>"
   ]
  },
  {
   "cell_type": "code",
   "execution_count": 0,
   "metadata": {
    "application/vnd.databricks.v1+cell": {
     "cellMetadata": {
      "byteLimit": 2048000,
      "rowLimit": 10000
     },
     "inputWidgets": {},
     "nuid": "9cbe1f66-f87a-4fd9-aedc-009486015ae9",
     "showTitle": false,
     "title": ""
    }
   },
   "outputs": [
    {
     "output_type": "stream",
     "name": "stdout",
     "output_type": "stream",
     "text": [
      "+-------+--------+-------------------+\n|user_id|  action|          timestamp|\n+-------+--------+-------------------+\n|      1|   login|2023-08-20 10:23:45|\n|      2|    view|2023-08-20 11:15:30|\n|      1|purchase|2023-08-20 12:45:18|\n|      3|    view|2023-08-20 13:30:22|\n+-------+--------+-------------------+\n\n"
     ]
    }
   ],
   "source": [
    "data = [\n",
    "    (1, \"login\", \"2023-08-20 10:23:45\"),\n",
    "    (2, \"view\", \"2023-08-20 11:15:30\"),\n",
    "    (1, \"purchase\", \"2023-08-20 12:45:18\"),\n",
    "    (3, \"view\", \"2023-08-20 13:30:22\")\n",
    "]\n",
    "columns = [\"user_id\", \"action\", \"timestamp\"]\n",
    "\n",
    "df=spark.createDataFrame(data,columns)\n",
    "df.show()"
   ]
  },
  {
   "cell_type": "markdown",
   "metadata": {
    "application/vnd.databricks.v1+cell": {
     "cellMetadata": {},
     "inputWidgets": {},
     "nuid": "37595802-40fa-4c7c-b583-a756e784a1d3",
     "showTitle": false,
     "title": ""
    }
   },
   "source": [
    "<h3>Count the number of actions.</h3>"
   ]
  },
  {
   "cell_type": "code",
   "execution_count": 0,
   "metadata": {
    "application/vnd.databricks.v1+cell": {
     "cellMetadata": {
      "byteLimit": 2048000,
      "rowLimit": 10000
     },
     "inputWidgets": {},
     "nuid": "ba2a9a50-8188-4421-b112-62ae5f503c7b",
     "showTitle": false,
     "title": ""
    }
   },
   "outputs": [
    {
     "output_type": "stream",
     "name": "stdout",
     "output_type": "stream",
     "text": [
      "+--------+-----+\n|  action|count|\n+--------+-----+\n|   login|    1|\n|    view|    2|\n|purchase|    1|\n+--------+-----+\n\n"
     ]
    }
   ],
   "source": [
    "df.groupBy(\"action\").count().show()"
   ]
  },
  {
   "cell_type": "markdown",
   "metadata": {
    "application/vnd.databricks.v1+cell": {
     "cellMetadata": {},
     "inputWidgets": {},
     "nuid": "6e04f7b5-4d26-4812-89c9-531d03deee47",
     "showTitle": false,
     "title": ""
    }
   },
   "source": [
    "<h3>What are the unique actions recorded in the dataset.</h3>"
   ]
  },
  {
   "cell_type": "code",
   "execution_count": 0,
   "metadata": {
    "application/vnd.databricks.v1+cell": {
     "cellMetadata": {
      "byteLimit": 2048000,
      "rowLimit": 10000
     },
     "inputWidgets": {},
     "nuid": "051447ed-d032-48fd-8257-26669b62c3f1",
     "showTitle": false,
     "title": ""
    }
   },
   "outputs": [
    {
     "output_type": "stream",
     "name": "stdout",
     "output_type": "stream",
     "text": [
      "+--------+\n|  action|\n+--------+\n|   login|\n|purchase|\n+--------+\n\n"
     ]
    }
   ],
   "source": [
    "df.groupBy(\"action\").agg(count(\"*\").alias(\"cnt\")).filter(col(\"cnt\")==1).select(\"action\").show()"
   ]
  },
  {
   "cell_type": "markdown",
   "metadata": {
    "application/vnd.databricks.v1+cell": {
     "cellMetadata": {},
     "inputWidgets": {},
     "nuid": "b2605bca-6cd5-4b10-8c77-f6876bd18e9b",
     "showTitle": false,
     "title": ""
    }
   },
   "source": [
    "<h3>Calculate the time duration between consecutive activities for each user</h3>"
   ]
  },
  {
   "cell_type": "code",
   "execution_count": 0,
   "metadata": {
    "application/vnd.databricks.v1+cell": {
     "cellMetadata": {
      "byteLimit": 2048000,
      "rowLimit": 10000
     },
     "inputWidgets": {},
     "nuid": "c853850b-acf3-4b5c-8086-673feea47250",
     "showTitle": false,
     "title": ""
    }
   },
   "outputs": [
    {
     "output_type": "stream",
     "name": "stdout",
     "output_type": "stream",
     "text": [
      "+-------+--------+-------------------+-------------------+---------+\n|user_id|  action|          timestamp|           lag_time|time_diff|\n+-------+--------+-------------------+-------------------+---------+\n|      1|   login|2023-08-20 10:23:45|               null|     null|\n|      1|purchase|2023-08-20 12:45:18|2023-08-20 10:23:45|     8493|\n|      2|    view|2023-08-20 11:15:30|               null|     null|\n|      3|    view|2023-08-20 13:30:22|               null|     null|\n+-------+--------+-------------------+-------------------+---------+\n\n"
     ]
    }
   ],
   "source": [
    "df=df.withColumn(\"timestamp\",df.timestamp.cast(\"timestamp\"))\n",
    "df1=df.withColumn(\"lag_time\",lag(\"timestamp\").over(Window.partitionBy(\"user_id\").orderBy(\"timestamp\")))\n",
    "df1.withColumn(\"time_diff\",df1.timestamp.cast(\"long\")-df1.lag_time.cast(\"long\")).show()"
   ]
  }
 ],
 "metadata": {
  "application/vnd.databricks.v1+notebook": {
   "dashboards": [],
   "language": "python",
   "notebookMetadata": {
    "pythonIndentUnit": 4
   },
   "notebookName": "Day 08 of #30daysofPyspark",
   "widgets": {}
  }
 },
 "nbformat": 4,
 "nbformat_minor": 0
}
