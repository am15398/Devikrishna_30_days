{
 "cells": [
  {
   "cell_type": "code",
   "execution_count": 0,
   "metadata": {
    "application/vnd.databricks.v1+cell": {
     "cellMetadata": {
      "byteLimit": 2048000,
      "rowLimit": 10000
     },
     "inputWidgets": {},
     "nuid": "acac3a1c-8a7b-4b52-b596-1085642e47d5",
     "showTitle": false,
     "title": ""
    }
   },
   "outputs": [],
   "source": [
    "from pyspark.sql import SparkSession\n",
    "from pyspark.sql.functions import *\n",
    "from pyspark.sql.window import Window"
   ]
  },
  {
   "cell_type": "code",
   "execution_count": 0,
   "metadata": {
    "application/vnd.databricks.v1+cell": {
     "cellMetadata": {
      "byteLimit": 2048000,
      "rowLimit": 10000
     },
     "inputWidgets": {},
     "nuid": "04405e1f-295c-4ece-9e5f-64c47d858a8a",
     "showTitle": false,
     "title": ""
    }
   },
   "outputs": [
    {
     "output_type": "stream",
     "name": "stdout",
     "output_type": "stream",
     "text": [
      "+----------+-------+-----+\n|      date|country|cases|\n+----------+-------+-----+\n|2021-01-01|    USA|10000|\n|2021-01-01|  India| 8000|\n|2021-01-02|    USA|10500|\n|2021-01-02|  India| 8200|\n|2021-01-01| russia|  200|\n|2021-01-02| russia| 8100|\n+----------+-------+-----+\n\n"
     ]
    }
   ],
   "source": [
    "spark = SparkSession.builder.appName(\"COVID19Analysis\").getOrCreate()\n",
    "\n",
    "# Load COVID-19 data (example: synthetic dataset)\n",
    "data = [\n",
    "(\"2021-01-01\", \"USA\", 10000),\n",
    "(\"2021-01-01\", \"India\", 8000),\n",
    "(\"2021-01-02\", \"USA\", 10500),\n",
    "(\"2021-01-02\", \"India\", 8200),\n",
    "(\"2021-01-01\", \"russia\", 200),\n",
    "(\"2021-01-02\", \"russia\", 8100),\n",
    "]\n",
    "\n",
    "schema = [\"date\", \"country\", \"cases\"]\n",
    "\n",
    "covid_df = spark.createDataFrame(data, schema=schema)\n",
    "covid_df.show()"
   ]
  },
  {
   "cell_type": "code",
   "execution_count": 0,
   "metadata": {
    "application/vnd.databricks.v1+cell": {
     "cellMetadata": {
      "byteLimit": 2048000,
      "rowLimit": 10000
     },
     "inputWidgets": {},
     "nuid": "81bd0fd1-7323-4991-8e1c-6a89840d4704",
     "showTitle": false,
     "title": ""
    }
   },
   "outputs": [
    {
     "output_type": "stream",
     "name": "stdout",
     "output_type": "stream",
     "text": [
      "+-------+-----------+\n|country|total_cases|\n+-------+-----------+\n|    USA|      20500|\n|  India|      16200|\n| russia|       8300|\n+-------+-----------+\n\n"
     ]
    }
   ],
   "source": [
    "#Calculate total cases per country\n",
    "total_cases_per_country = covid_df.groupBy(\"country\").agg(sum(\"cases\").alias(\"total_cases\"))\n",
    "total_cases_per_country.show()"
   ]
  },
  {
   "cell_type": "markdown",
   "metadata": {
    "application/vnd.databricks.v1+cell": {
     "cellMetadata": {
      "byteLimit": 2048000,
      "rowLimit": 10000
     },
     "inputWidgets": {},
     "nuid": "3ba47205-e520-4044-95ac-e069273e9708",
     "showTitle": false,
     "title": ""
    }
   },
   "source": [
    "<h3> we can use defualt value in lag or we can convert using fillna as well.</h3>"
   ]
  },
  {
   "cell_type": "code",
   "execution_count": 0,
   "metadata": {
    "application/vnd.databricks.v1+cell": {
     "cellMetadata": {
      "byteLimit": 2048000,
      "rowLimit": 10000
     },
     "inputWidgets": {},
     "nuid": "fa370d85-477c-404b-8172-32ca1c82760a",
     "showTitle": false,
     "title": ""
    }
   },
   "outputs": [
    {
     "output_type": "stream",
     "name": "stdout",
     "output_type": "stream",
     "text": [
      "+----------+-------+-----+---------------+---------+\n|      date|country|cases|prev_date_cases|new_cases|\n+----------+-------+-----+---------------+---------+\n|2021-01-01|  India| 8000|              0|     8000|\n|2021-01-02|  India| 8200|           8000|      200|\n|2021-01-01|    USA|10000|              0|    10000|\n|2021-01-02|    USA|10500|          10000|      500|\n|2021-01-01| russia|  200|              0|      200|\n|2021-01-02| russia| 8100|            200|     7900|\n+----------+-------+-----+---------------+---------+\n\n"
     ]
    }
   ],
   "source": [
    "# Calculate daily new cases\n",
    "covid_df = covid_df.withColumn(\"prev_date_cases\", lag(\"cases\",1,0).over(Window.partitionBy(\"country\").orderBy(\"date\")))\n",
    "#covid_df=covid_df.fillna({\"prev_date_cases\":0})\n",
    "covid_df = covid_df.withColumn(\"new_cases\", col(\"cases\") - col(\"prev_date_cases\"))\n",
    "covid_df.show()"
   ]
  },
  {
   "cell_type": "code",
   "execution_count": 0,
   "metadata": {
    "application/vnd.databricks.v1+cell": {
     "cellMetadata": {
      "byteLimit": 2048000,
      "rowLimit": 10000
     },
     "inputWidgets": {},
     "nuid": "b5e02e1d-a2d9-474c-b6c8-1cb0a44874eb",
     "showTitle": false,
     "title": ""
    }
   },
   "outputs": [
    {
     "output_type": "stream",
     "name": "stdout",
     "output_type": "stream",
     "text": [
      "+-------+-----------+\n|country|total_cases|\n+-------+-----------+\n|    USA|      20500|\n|  India|      16200|\n+-------+-----------+\n\n"
     ]
    }
   ],
   "source": [
    "# Analyze the data (example: top countries with the most cases)\n",
    "top_countries = total_cases_per_country.orderBy(desc(\"total_cases\")).limit(2)\n",
    "top_countries.show()"
   ]
  }
 ],
 "metadata": {
  "application/vnd.databricks.v1+notebook": {
   "dashboards": [],
   "language": "python",
   "notebookMetadata": {
    "pythonIndentUnit": 4
   },
   "notebookName": "Day 17 of #30daysofPyspark",
   "widgets": {}
  }
 },
 "nbformat": 4,
 "nbformat_minor": 0
}
