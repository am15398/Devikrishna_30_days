{
 "cells": [
  {
   "cell_type": "code",
   "execution_count": 0,
   "metadata": {
    "application/vnd.databricks.v1+cell": {
     "cellMetadata": {
      "byteLimit": 2048000,
      "rowLimit": 10000
     },
     "inputWidgets": {},
     "nuid": "acac3a1c-8a7b-4b52-b596-1085642e47d5",
     "showTitle": false,
     "title": ""
    }
   },
   "outputs": [],
   "source": [
    "from pyspark.sql.functions import sum,desc,avg,count,max,col"
   ]
  },
  {
   "cell_type": "code",
   "execution_count": 0,
   "metadata": {
    "application/vnd.databricks.v1+cell": {
     "cellMetadata": {
      "byteLimit": 2048000,
      "rowLimit": 10000
     },
     "inputWidgets": {},
     "nuid": "20a53156-2f43-4f25-9c68-78b45feba65b",
     "showTitle": false,
     "title": ""
    }
   },
   "outputs": [
    {
     "output_type": "stream",
     "name": "stdout",
     "output_type": "stream",
     "text": [
      "+--------+-----------+----------+------------+\n|order_id|customer_id|order_date|total_amount|\n+--------+-----------+----------+------------+\n|       1|       C101|2023-07-01|         150|\n|       2|       C102|2023-07-02|         200|\n|       3|       C101|2023-07-02|         100|\n|       4|       C103|2023-07-03|         300|\n|       5|       C102|2023-07-04|         250|\n|       6|       C101|2023-07-05|         120|\n+--------+-----------+----------+------------+\n\n+----------+------------+-----+\n|product_id|product_name|price|\n+----------+------------+-----+\n|         1|   Product A|  500|\n|         2|   Product B|   50|\n|         3|   Product C|  800|\n|         4|   Product D|   30|\n|         5|   Product E|   75|\n+----------+------------+-----+\n\n"
     ]
    }
   ],
   "source": [
    "from pyspark.sql import SparkSession\n",
    "spark=SparkSession.builder.appName(\"OrderAnalysis\").getOrCreate()\n",
    "\n",
    "data=[\n",
    "    (1,\"C101\",\"2023-07-01\",150),\n",
    "(2,\"C102\",\"2023-07-02\",200),\n",
    "(3,\"C101\",\"2023-07-02\",100),\n",
    "(4,\"C103\",\"2023-07-03\",300),\n",
    "(5,\"C102\",\"2023-07-04\",250),\n",
    "(6,\"C101\",\"2023-07-05\",120)\n",
    "]\n",
    "col=[\"order_id\",\"customer_id\",\"order_date\",\"total_amount\"]\n",
    "df1=spark.createDataFrame(data,col)\n",
    "\n",
    "data1=[\n",
    "    (1,\"Product A\",500),\n",
    "(2,\"Product B\",50),\n",
    "(3,\"Product C\",800),\n",
    "(4,\"Product D\",30),\n",
    "(5,\"Product E\",75)\n",
    "]\n",
    "col1=[\"product_id\",\"product_name\",\"price\"]\n",
    "df2=spark.createDataFrame(data1,col1)\n",
    "\n",
    "df1.show()\n",
    "df2.show()"
   ]
  },
  {
   "cell_type": "markdown",
   "metadata": {
    "application/vnd.databricks.v1+cell": {
     "cellMetadata": {
      "byteLimit": 2048000,
      "rowLimit": 10000
     },
     "inputWidgets": {},
     "nuid": "f1c8ee7b-996d-49af-9d6d-2aff27d39797",
     "showTitle": false,
     "title": ""
    }
   },
   "source": [
    "<h3>𝐂𝐚𝐥𝐜𝐮𝐥𝐚𝐭𝐞 𝐭𝐡𝐞 𝐭𝐨𝐭𝐚𝐥 𝐫𝐞𝐯𝐞𝐧𝐮𝐞 𝐠𝐞𝐧𝐞𝐫𝐚𝐭𝐞𝐝 𝐟𝐫𝐨𝐦 𝐚𝐥𝐥 𝐨𝐫𝐝𝐞𝐫𝐬.<\\h3>"
   ]
  },
  {
   "cell_type": "code",
   "execution_count": 0,
   "metadata": {
    "application/vnd.databricks.v1+cell": {
     "cellMetadata": {
      "byteLimit": 2048000,
      "rowLimit": 10000
     },
     "inputWidgets": {},
     "nuid": "c83310af-e96d-43ab-8f0a-0c87783d2e33",
     "showTitle": false,
     "title": ""
    }
   },
   "outputs": [
    {
     "output_type": "stream",
     "name": "stdout",
     "output_type": "stream",
     "text": [
      "+---------+\n|toatl_rev|\n+---------+\n|     1120|\n+---------+\n\n"
     ]
    }
   ],
   "source": [
    "df2=df1.agg(sum(\"total_amount\").alias(\"toatl_rev\"))\n",
    "df2.show()"
   ]
  },
  {
   "cell_type": "markdown",
   "metadata": {
    "application/vnd.databricks.v1+cell": {
     "cellMetadata": {
      "byteLimit": 2048000,
      "rowLimit": 10000
     },
     "inputWidgets": {},
     "nuid": "00148141-242c-4c6d-a56d-97a667b7fc4e",
     "showTitle": false,
     "title": ""
    }
   },
   "source": [
    "<h3>𝐅𝐢𝐧𝐝 𝐭𝐡𝐞 𝐭𝐨𝐩 5 𝐨𝐫𝐝𝐞𝐫𝐬 𝐰𝐢𝐭𝐡 𝐭𝐡𝐞 𝐡𝐢𝐠𝐡𝐞𝐬𝐭 𝐭𝐨𝐭𝐚𝐥 𝐚𝐦𝐨𝐮𝐧𝐭.<\\h3>"
   ]
  },
  {
   "cell_type": "code",
   "execution_count": 0,
   "metadata": {
    "application/vnd.databricks.v1+cell": {
     "cellMetadata": {
      "byteLimit": 2048000,
      "rowLimit": 10000
     },
     "inputWidgets": {},
     "nuid": "9296be7d-3180-4e39-bc42-50b021edc6c7",
     "showTitle": false,
     "title": ""
    }
   },
   "outputs": [
    {
     "output_type": "stream",
     "name": "stdout",
     "output_type": "stream",
     "text": [
      "+--------+-----------+----------+------------+\n|order_id|customer_id|order_date|total_amount|\n+--------+-----------+----------+------------+\n|       4|       C103|2023-07-03|         300|\n|       5|       C102|2023-07-04|         250|\n|       2|       C102|2023-07-02|         200|\n|       1|       C101|2023-07-01|         150|\n|       6|       C101|2023-07-05|         120|\n+--------+-----------+----------+------------+\n\n"
     ]
    }
   ],
   "source": [
    "df3=df1.orderBy(col(\"total_amount\").desc()).limit(5)\n",
    "df3.show()"
   ]
  }
 ],
 "metadata": {
  "application/vnd.databricks.v1+notebook": {
   "dashboards": [],
   "language": "python",
   "notebookMetadata": {
    "pythonIndentUnit": 4
   },
   "notebookName": "Day 07 of #30daysofPyspark",
   "widgets": {}
  }
 },
 "nbformat": 4,
 "nbformat_minor": 0
}
