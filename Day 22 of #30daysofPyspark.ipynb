{
 "cells": [
  {
   "cell_type": "code",
   "execution_count": 0,
   "metadata": {
    "application/vnd.databricks.v1+cell": {
     "cellMetadata": {
      "byteLimit": 2048000,
      "rowLimit": 10000
     },
     "inputWidgets": {},
     "nuid": "04405e1f-295c-4ece-9e5f-64c47d858a8a",
     "showTitle": false,
     "title": ""
    }
   },
   "outputs": [
    {
     "output_type": "stream",
     "name": "stdout",
     "output_type": "stream",
     "text": [
      "+----+---+\n|Name|Age|\n+----+---+\n|John| 28|\n|Jane| 25|\n|John| 28|\n| Doe| 30|\n+----+---+\n\n"
     ]
    }
   ],
   "source": [
    "from pyspark.sql import SparkSession\n",
    "\n",
    "# Create a SparkSession\n",
    "spark = SparkSession.builder.appName(\"RemoveDuplicates\").getOrCreate()\n",
    "\n",
    "# Sample data\n",
    "data = [(\"John\", 28), (\"Jane\", 25), (\"John\", 28), (\"Doe\", 30)]\n",
    "\n",
    "# Create a DataFrame\n",
    "columns = [\"Name\", \"Age\"]\n",
    "df = spark.createDataFrame(data, columns)\n",
    "df.show()\n"
   ]
  },
  {
   "cell_type": "markdown",
   "metadata": {
    "application/vnd.databricks.v1+cell": {
     "cellMetadata": {
      "byteLimit": 2048000,
      "rowLimit": 10000
     },
     "inputWidgets": {},
     "nuid": "49b50c5b-0886-480d-9e62-420335d962d4",
     "showTitle": false,
     "title": ""
    }
   },
   "source": [
    "<h3>remove duplicate</h3>"
   ]
  },
  {
   "cell_type": "code",
   "execution_count": 0,
   "metadata": {
    "application/vnd.databricks.v1+cell": {
     "cellMetadata": {
      "byteLimit": 2048000,
      "rowLimit": 10000
     },
     "inputWidgets": {},
     "nuid": "7271f686-fcdd-4b3d-9b4d-cb285ef8de25",
     "showTitle": false,
     "title": ""
    }
   },
   "outputs": [
    {
     "output_type": "stream",
     "name": "stdout",
     "output_type": "stream",
     "text": [
      "+----+---+\n|Name|Age|\n+----+---+\n|John| 28|\n|Jane| 25|\n| Doe| 30|\n+----+---+\n\n+----+---+\n|Name|Age|\n+----+---+\n|John| 28|\n|Jane| 25|\n| Doe| 30|\n+----+---+\n\n"
     ]
    }
   ],
   "source": [
    "\n",
    "# Remove duplicate records based on all columns\n",
    "df_drop_duplicates = df.dropDuplicates()\n",
    "\n",
    "# Show the result\n",
    "df_drop_duplicates.show()\n",
    "\n",
    "# Remove duplicate records based on all columns using distinct\n",
    "df_distinct_duplicates = df.distinct()\n",
    "\n",
    "# Show the result\n",
    "df_distinct_duplicates.show()"
   ]
  }
 ],
 "metadata": {
  "application/vnd.databricks.v1+notebook": {
   "dashboards": [],
   "language": "python",
   "notebookMetadata": {
    "pythonIndentUnit": 4
   },
   "notebookName": "Day 22 of #30daysofPyspark",
   "widgets": {}
  }
 },
 "nbformat": 4,
 "nbformat_minor": 0
}
