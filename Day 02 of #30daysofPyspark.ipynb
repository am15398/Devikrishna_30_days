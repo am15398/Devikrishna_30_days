{
 "cells": [
  {
   "cell_type": "code",
   "execution_count": 0,
   "metadata": {
    "application/vnd.databricks.v1+cell": {
     "cellMetadata": {
      "byteLimit": 2048000,
      "rowLimit": 10000
     },
     "inputWidgets": {},
     "nuid": "5166e25e-4b70-41d5-83dc-e0b164cf92fa",
     "showTitle": false,
     "title": ""
    }
   },
   "outputs": [
    {
     "output_type": "stream",
     "name": "stdout",
     "output_type": "stream",
     "text": [
      "+-----------+---------------+-------------+\n|customer_id|purchase_amount|purchase_date|\n+-----------+---------------+-------------+\n|          1|            100|   2023-01-15|\n|          2|            150|   2023-02-20|\n|          1|            200|   2023-03-10|\n|          3|             50|   2023-04-05|\n|          2|            120|   2023-05-15|\n|          1|            300|   2023-06-25|\n+-----------+---------------+-------------+\n\nRow(customer_id=1, total_purchase_amount=600)\n"
     ]
    }
   ],
   "source": [
    "from pyspark.sql import SparkSession\n",
    "from pyspark.sql.functions import sum,desc\n",
    "spark= SparkSession.builder.appName(\"CustomerPurchaseAnalysis\").getOrCreate()\n",
    "data=[\n",
    "    (1,100,\"2023-01-15\"),\n",
    "(2,150,\"2023-02-20\"),\n",
    "(1,200,\"2023-03-10\"),\n",
    "(3,50,\"2023-04-05\"),\n",
    "(2,120,\"2023-05-15\"),\n",
    "(1,300,\"2023-06-25\"),\n",
    "]\n",
    "col=[\"customer_id\",\"purchase_amount\",\"purchase_date\"]\n",
    "df=spark.createDataFrame(data,col)\n",
    "total_purchase_per_cust=df.groupBy(\"customer_id\").agg(sum(\"purchase_amount\").alias(\"total_purchase_amount\"))\n",
    "hight_cust_purchase=total_purchase_per_cust.orderBy(desc(\"total_purchase_amount\")).first()\n",
    "df.show()\n",
    "print(hight_cust_purchase)"
   ]
  }
 ],
 "metadata": {
  "application/vnd.databricks.v1+notebook": {
   "dashboards": [],
   "language": "python",
   "notebookMetadata": {
    "pythonIndentUnit": 4
   },
   "notebookName": "Day 02 of #30daysofPyspark",
   "widgets": {}
  }
 },
 "nbformat": 4,
 "nbformat_minor": 0
}
