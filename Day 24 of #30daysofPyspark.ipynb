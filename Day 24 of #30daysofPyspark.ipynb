{
 "cells": [
  {
   "cell_type": "code",
   "execution_count": 0,
   "metadata": {
    "application/vnd.databricks.v1+cell": {
     "cellMetadata": {
      "byteLimit": 2048000,
      "rowLimit": 10000
     },
     "inputWidgets": {},
     "nuid": "04405e1f-295c-4ece-9e5f-64c47d858a8a",
     "showTitle": false,
     "title": ""
    }
   },
   "outputs": [
    {
     "output_type": "stream",
     "name": "stdout",
     "output_type": "stream",
     "text": [
      "+-------+------------+----------+\n|sale_id|product_name| sale_date|\n+-------+------------+----------+\n|      1|     Toycar1|2000-01-16|\n|      2|     toYcar2|2000-01-17|\n|      3|     toycaR3|2000-02-18|\n|      4|       doll1|2000-02-19|\n|      5|       doll2|2000-02-28|\n|      6|        data|2000-03-31|\n|      7|       doll1|2000-02-19|\n+-------+------------+----------+\n\n"
     ]
    }
   ],
   "source": [
    "from pyspark.sql import SparkSession\n",
    "from pyspark.sql.functions import trim, lower, date_format, col,count\n",
    "\n",
    "# Create a SparkSession\n",
    "spark = SparkSession.builder.appName(\"SalesAnalysis\").getOrCreate()\n",
    "\n",
    "# Sample Sales data\n",
    "data = [(1, \"Toycar1\", \"2000-01-16\"),\n",
    "        (2, \"toYcar2\", \"2000-01-17\"),\n",
    "        (3, \"toycaR3\", \"2000-02-18\"),\n",
    "        (4, \"doll1\", \"2000-02-19\"),\n",
    "        (5, \"doll2\", \"2000-02-28\"),\n",
    "        (6, \"data\", \"2000-03-31\"),\n",
    "        (7, \"doll1\", \"2000-02-19\")]\n",
    "\n",
    "# Create a DataFrame\n",
    "sales_df = spark.createDataFrame(data, [\"sale_id\", \"product_name\", \"sale_date\"])\n",
    "sales_df.show()\n",
    "\n"
   ]
  },
  {
   "cell_type": "markdown",
   "metadata": {
    "application/vnd.databricks.v1+cell": {
     "cellMetadata": {
      "byteLimit": 2048000,
      "rowLimit": 10000
     },
     "inputWidgets": {},
     "nuid": "49b50c5b-0886-480d-9e62-420335d962d4",
     "showTitle": false,
     "title": ""
    }
   },
   "source": [
    "<h3>transformation /h3>"
   ]
  },
  {
   "cell_type": "code",
   "execution_count": 0,
   "metadata": {
    "application/vnd.databricks.v1+cell": {
     "cellMetadata": {
      "byteLimit": 2048000,
      "rowLimit": 10000
     },
     "inputWidgets": {},
     "nuid": "7271f686-fcdd-4b3d-9b4d-cb285ef8de25",
     "showTitle": false,
     "title": ""
    }
   },
   "outputs": [
    {
     "output_type": "stream",
     "name": "stdout",
     "output_type": "stream",
     "text": [
      "+-------+------------+----------+\n|sale_id|product_name| sale_date|\n+-------+------------+----------+\n|      1|     toycar1|2000-01-16|\n|      2|     toycar2|2000-01-17|\n|      3|     toycar3|2000-02-18|\n|      4|       doll1|2000-02-19|\n|      5|       doll2|2000-02-28|\n|      6|        data|2000-03-31|\n|      7|       doll1|2000-02-19|\n+-------+------------+----------+\n\n+-------+------------+---------+\n|sale_id|product_name|sale_date|\n+-------+------------+---------+\n|      1|     toycar1|  2000-01|\n|      2|     toycar2|  2000-01|\n|      3|     toycar3|  2000-02|\n|      4|       doll1|  2000-02|\n|      5|       doll2|  2000-02|\n|      6|        data|  2000-03|\n|      7|       doll1|  2000-02|\n+-------+------------+---------+\n\n+------------+---------+-----+\n|product_name|sale_date|total|\n+------------+---------+-----+\n|        data|  2000-03|    1|\n|       doll1|  2000-02|    2|\n|       doll2|  2000-02|    1|\n|     toycar1|  2000-01|    1|\n|     toycar2|  2000-01|    1|\n|     toycar3|  2000-02|    1|\n+------------+---------+-----+\n\n"
     ]
    }
   ],
   "source": [
    "# Perform the transformations\n",
    "df1=sales_df.withColumn(\"product_name\", trim(lower(col(\"product_name\"))))\n",
    "df1.show()\n",
    "df2=df1.withColumn(\"sale_date\", date_format(col(\"sale_date\"), \"yyyy-MM\")) \n",
    "df2.show()\n",
    "df2.groupBy(\"product_name\", \"sale_date\").agg(count(\"sale_id\").alias(\"total\")).orderBy(\"product_name\", \"sale_date\").show()\n"
   ]
  },
  {
   "cell_type": "code",
   "execution_count": 0,
   "metadata": {
    "application/vnd.databricks.v1+cell": {
     "cellMetadata": {
      "byteLimit": 2048000,
      "rowLimit": 10000
     },
     "inputWidgets": {},
     "nuid": "56820106-62b7-472c-addb-f8ca0e3e1177",
     "showTitle": false,
     "title": ""
    }
   },
   "outputs": [
    {
     "output_type": "stream",
     "name": "stdout",
     "output_type": "stream",
     "text": [
      "+------------+---------+-----+\n|product_name|sale_date|total|\n+------------+---------+-----+\n|        data|  2000-03|    1|\n|       doll1|  2000-02|    2|\n|       doll2|  2000-02|    1|\n|     toycar1|  2000-01|    1|\n|     toycar2|  2000-01|    1|\n|     toycar3|  2000-02|    1|\n+------------+---------+-----+\n\n"
     ]
    }
   ],
   "source": [
    "result_df = sales_df \\\n",
    "    .withColumn(\"product_name\", trim(lower(col(\"product_name\")))) \\\n",
    "    .withColumn(\"sale_date\", date_format(col(\"sale_date\"), \"yyyy-MM\")) \\\n",
    "    .groupBy(\"product_name\", \"sale_date\") \\\n",
    "    .agg(count(\"sale_id\").alias(\"total\")) \\\n",
    "    .orderBy(\"product_name\", \"sale_date\")\n",
    "\n",
    "# Show the result\n",
    "result_df.show()"
   ]
  }
 ],
 "metadata": {
  "application/vnd.databricks.v1+notebook": {
   "dashboards": [],
   "language": "python",
   "notebookMetadata": {
    "pythonIndentUnit": 4
   },
   "notebookName": "Day 24 of #30daysofPyspark",
   "widgets": {}
  }
 },
 "nbformat": 4,
 "nbformat_minor": 0
}
