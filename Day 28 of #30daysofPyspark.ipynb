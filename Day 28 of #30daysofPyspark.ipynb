{
 "cells": [
  {
   "cell_type": "code",
   "execution_count": 0,
   "metadata": {
    "application/vnd.databricks.v1+cell": {
     "cellMetadata": {
      "byteLimit": 2048000,
      "rowLimit": 10000
     },
     "inputWidgets": {},
     "nuid": "982089b9-1926-4fce-bdfa-63784beee338",
     "showTitle": false,
     "title": ""
    }
   },
   "outputs": [],
   "source": [
    "from pyspark.sql.functions import when,sum"
   ]
  },
  {
   "cell_type": "code",
   "execution_count": 0,
   "metadata": {
    "application/vnd.databricks.v1+cell": {
     "cellMetadata": {
      "byteLimit": 2048000,
      "rowLimit": 10000
     },
     "inputWidgets": {},
     "nuid": "04405e1f-295c-4ece-9e5f-64c47d858a8a",
     "showTitle": false,
     "title": ""
    }
   },
   "outputs": [
    {
     "output_type": "stream",
     "name": "stdout",
     "output_type": "stream",
     "text": [
      "+-----+----------+-----+\n| name|product_id|units|\n+-----+----------+-----+\n|Room1|         1|    1|\n|Room1|         2|   10|\n|Room1|         3|    5|\n|Room2|         1|    2|\n|Room2|         2|    2|\n|Room3|         4|    1|\n+-----+----------+-----+\n\n+----------+---------------+-----+------+------+\n|product_id|   product_name|Width|Length|Height|\n+----------+---------------+-----+------+------+\n|         1|  Mencollection|    5|    50|    40|\n|         2|Girlscollection|    5|     5|     5|\n|         3|Childcollection|    2|    10|    10|\n|         4|Womencollection|    4|    10|    20|\n+----------+---------------+-----+------+------+\n\n"
     ]
    }
   ],
   "source": [
    "from pyspark.sql import SparkSession\n",
    "from pyspark.sql.functions import trim, lower, date_format, col,count\n",
    "\n",
    "# Create a SparkSession\n",
    "spark = SparkSession.builder.appName(\"join\").getOrCreate()\n",
    "\n",
    "# Sample Storagehouse data\n",
    "data1=[(\"Room1\",1,1),\n",
    "       (\"Room1\",2,10),\n",
    "       (\"Room1\",3,5),\n",
    "       (\"Room2\",1,2),\n",
    "       (\"Room2\",2,2),\n",
    "       (\"Room3\",4,1)]\n",
    "df_st=spark.createDataFrame(data1,[\"name\",\"product_id\",\"units\"])\n",
    "\n",
    "data2=[\n",
    "        (1,\"Mencollection\",5,50,40),\n",
    "(2,\"Girlscollection\",5,5,5),\n",
    "(3,\"Childcollection\",2,10,10),\n",
    "(4,\"Womencollection\",4,10,20)\n",
    "]\n",
    "\n",
    "df_pr=spark.createDataFrame(data2,[\"product_id\",\"product_name\",\"Width\",\"Length\",\"Height\"])\n",
    "\n",
    "df_st.show()\n",
    "\n",
    "df_pr.show()\n"
   ]
  },
  {
   "cell_type": "markdown",
   "metadata": {
    "application/vnd.databricks.v1+cell": {
     "cellMetadata": {
      "byteLimit": 2048000,
      "rowLimit": 10000
     },
     "inputWidgets": {},
     "nuid": "85b83a1f-b5ff-489d-b112-9ca8f10e9245",
     "showTitle": false,
     "title": ""
    }
   },
   "source": [
    "<h3>warehouse_name | volume </h3>\n",
    "<h3>volume = length * width * height</h3>"
   ]
  },
  {
   "cell_type": "code",
   "execution_count": 0,
   "metadata": {
    "application/vnd.databricks.v1+cell": {
     "cellMetadata": {
      "byteLimit": 2048000,
      "rowLimit": 10000
     },
     "inputWidgets": {},
     "nuid": "524b3ce6-3ec6-4d0c-bce2-08b179b65924",
     "showTitle": false,
     "title": ""
    }
   },
   "outputs": [
    {
     "output_type": "stream",
     "name": "stdout",
     "output_type": "stream",
     "text": [
      "+-----+----------+-----+----------+---------------+-----+------+------+\n| name|product_id|units|product_id|   product_name|Width|Length|Height|\n+-----+----------+-----+----------+---------------+-----+------+------+\n|Room1|         1|    1|         1|  Mencollection|    5|    50|    40|\n|Room2|         1|    2|         1|  Mencollection|    5|    50|    40|\n|Room1|         2|   10|         2|Girlscollection|    5|     5|     5|\n|Room2|         2|    2|         2|Girlscollection|    5|     5|     5|\n|Room1|         3|    5|         3|Childcollection|    2|    10|    10|\n|Room3|         4|    1|         4|Womencollection|    4|    10|    20|\n+-----+----------+-----+----------+---------------+-----+------+------+\n\n+----------+-----+-----+---------------+-----+------+------+\n|product_id| name|units|   product_name|Width|Length|Height|\n+----------+-----+-----+---------------+-----+------+------+\n|         1|Room1|    1|  Mencollection|    5|    50|    40|\n|         1|Room2|    2|  Mencollection|    5|    50|    40|\n|         2|Room1|   10|Girlscollection|    5|     5|     5|\n|         2|Room2|    2|Girlscollection|    5|     5|     5|\n|         3|Room1|    5|Childcollection|    2|    10|    10|\n|         4|Room3|    1|Womencollection|    4|    10|    20|\n+----------+-----+-----+---------------+-----+------+------+\n\n"
     ]
    }
   ],
   "source": [
    "df_st.join(df_pr,df_st.product_id==df_pr.product_id,\"inner\").show()\n",
    "\n",
    "# another way of join\n",
    "result_df = df_st.join(df_pr, on=\"product_id\", how=\"inner\")\n",
    "result_df.show()\n"
   ]
  },
  {
   "cell_type": "code",
   "execution_count": 0,
   "metadata": {
    "application/vnd.databricks.v1+cell": {
     "cellMetadata": {
      "byteLimit": 2048000,
      "rowLimit": 10000
     },
     "inputWidgets": {},
     "nuid": "1ac48b69-9b25-44cb-a7a0-9928f4ff30c5",
     "showTitle": false,
     "title": ""
    }
   },
   "outputs": [
    {
     "output_type": "stream",
     "name": "stdout",
     "output_type": "stream",
     "text": [
      "+--------------+------+\n|warehouse_name|volume|\n+--------------+------+\n|         Room3|   800|\n|         Room2| 10125|\n|         Room1| 10325|\n+--------------+------+\n\n"
     ]
    }
   ],
   "source": [
    "result_df.withColumn(\"volume\",result_df.Width*result_df.Length*result_df.Height)\\\n",
    "    .groupBy(col(\"name\").alias(\"warehouse_name\")).agg(sum(\"volume\").alias(\"volume\")).show()"
   ]
  }
 ],
 "metadata": {
  "application/vnd.databricks.v1+notebook": {
   "dashboards": [],
   "language": "python",
   "notebookMetadata": {
    "pythonIndentUnit": 4
   },
   "notebookName": "Day 28 of #30daysofPyspark",
   "widgets": {}
  }
 },
 "nbformat": 4,
 "nbformat_minor": 0
}
