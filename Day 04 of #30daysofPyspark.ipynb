{
 "cells": [
  {
   "cell_type": "code",
   "execution_count": 0,
   "metadata": {
    "application/vnd.databricks.v1+cell": {
     "cellMetadata": {
      "byteLimit": 2048000,
      "rowLimit": 10000
     },
     "inputWidgets": {},
     "nuid": "acac3a1c-8a7b-4b52-b596-1085642e47d5",
     "showTitle": false,
     "title": ""
    }
   },
   "outputs": [],
   "source": [
    "from pyspark.sql.functions import sum,desc,avg,count"
   ]
  },
  {
   "cell_type": "code",
   "execution_count": 0,
   "metadata": {
    "application/vnd.databricks.v1+cell": {
     "cellMetadata": {
      "byteLimit": 2048000,
      "rowLimit": 10000
     },
     "inputWidgets": {},
     "nuid": "20a53156-2f43-4f25-9c68-78b45feba65b",
     "showTitle": false,
     "title": ""
    }
   },
   "outputs": [
    {
     "output_type": "stream",
     "name": "stdout",
     "output_type": "stream",
     "text": [
      "+-----------+---------------+-----------+------+\n|employee_id|  employee_name| department|salary|\n+-----------+---------------+-----------+------+\n|          1|       John Doe|Engineering| 90000|\n|          2|     Jane Smith|  Marketing| 75000|\n|          3|Michael Johnson|Engineering|105000|\n|          4|    Emily Davis|  Marketing| 80000|\n|          5|   Robert Brown|Engineering| 95000|\n|          6|   Linda Wilson|         HR| 60000|\n+-----------+---------------+-----------+------+\n\n"
     ]
    }
   ],
   "source": [
    "from pyspark.sql import SparkSession\n",
    "\n",
    "spark=SparkSession.builder.appName(\"EmpAnalysis\").getOrCreate()\n",
    "data=[\n",
    "    (1,\"John Doe\",\"Engineering\",90000),\n",
    "(2,\"Jane Smith\",\"Marketing\",75000),\n",
    "(3,\"Michael Johnson\",\"Engineering\",105000),\n",
    "(4,\"Emily Davis\",\"Marketing\",80000),\n",
    "(5,\"Robert Brown\",\"Engineering\",95000),\n",
    "(6,\"Linda Wilson\",\"HR\",60000)\n",
    "]\n",
    "col=[\"employee_id\",\"employee_name\",\"department\",\"salary\"]\n",
    "df=spark.createDataFrame(data,col)\n",
    "df.show()"
   ]
  },
  {
   "cell_type": "markdown",
   "metadata": {
    "application/vnd.databricks.v1+cell": {
     "cellMetadata": {
      "byteLimit": 2048000,
      "rowLimit": 10000
     },
     "inputWidgets": {},
     "nuid": "f1c8ee7b-996d-49af-9d6d-2aff27d39797",
     "showTitle": false,
     "title": ""
    }
   },
   "source": [
    "<h3>Calculate the total payroll cost for the company.<\\h3>"
   ]
  },
  {
   "cell_type": "code",
   "execution_count": 0,
   "metadata": {
    "application/vnd.databricks.v1+cell": {
     "cellMetadata": {
      "byteLimit": 2048000,
      "rowLimit": 10000
     },
     "inputWidgets": {},
     "nuid": "c83310af-e96d-43ab-8f0a-0c87783d2e33",
     "showTitle": false,
     "title": ""
    }
   },
   "outputs": [
    {
     "output_type": "stream",
     "name": "stdout",
     "output_type": "stream",
     "text": [
      "+-------------+\n|total_payroll|\n+-------------+\n|       505000|\n+-------------+\n\n"
     ]
    }
   ],
   "source": [
    "df1=df.agg(sum(\"salary\").alias(\"total_payroll\"))\n",
    "df1.show()"
   ]
  },
  {
   "cell_type": "markdown",
   "metadata": {
    "application/vnd.databricks.v1+cell": {
     "cellMetadata": {
      "byteLimit": 2048000,
      "rowLimit": 10000
     },
     "inputWidgets": {},
     "nuid": "00148141-242c-4c6d-a56d-97a667b7fc4e",
     "showTitle": false,
     "title": ""
    }
   },
   "source": [
    "<h3>Find the average salary for each department<\\h3>"
   ]
  },
  {
   "cell_type": "code",
   "execution_count": 0,
   "metadata": {
    "application/vnd.databricks.v1+cell": {
     "cellMetadata": {
      "byteLimit": 2048000,
      "rowLimit": 10000
     },
     "inputWidgets": {},
     "nuid": "9296be7d-3180-4e39-bc42-50b021edc6c7",
     "showTitle": false,
     "title": ""
    }
   },
   "outputs": [
    {
     "output_type": "stream",
     "name": "stdout",
     "output_type": "stream",
     "text": [
      "+-----------+-----------------+\n| department|       avg_salary|\n+-----------+-----------------+\n|Engineering|96666.66666666667|\n|  Marketing|          77500.0|\n|         HR|          60000.0|\n+-----------+-----------------+\n\n"
     ]
    }
   ],
   "source": [
    "df2=df.groupBy(\"department\").agg(avg(\"salary\").alias(\"avg_salary\"))\n",
    "df2.show()"
   ]
  },
  {
   "cell_type": "markdown",
   "metadata": {
    "application/vnd.databricks.v1+cell": {
     "cellMetadata": {},
     "inputWidgets": {},
     "nuid": "aacce225-ccc5-481e-9d1f-47bcc9a3da15",
     "showTitle": false,
     "title": ""
    }
   },
   "source": [
    "<h3>Identify the highest-paid employee and their department.<\\h3>"
   ]
  },
  {
   "cell_type": "code",
   "execution_count": 0,
   "metadata": {
    "application/vnd.databricks.v1+cell": {
     "cellMetadata": {
      "byteLimit": 2048000,
      "rowLimit": 10000
     },
     "inputWidgets": {},
     "nuid": "6b963716-f577-4fa3-a82a-de396686332c",
     "showTitle": false,
     "title": ""
    }
   },
   "outputs": [
    {
     "output_type": "stream",
     "name": "stdout",
     "output_type": "stream",
     "text": [
      "+---------------+-----------+\n|  employee_name| department|\n+---------------+-----------+\n|Michael Johnson|Engineering|\n+---------------+-----------+\n\n"
     ]
    }
   ],
   "source": [
    "df.orderBy(desc(\"salary\")).limit(1).select(\"employee_name\",\"department\").show()"
   ]
  },
  {
   "cell_type": "markdown",
   "metadata": {
    "application/vnd.databricks.v1+cell": {
     "cellMetadata": {},
     "inputWidgets": {},
     "nuid": "1189f661-31b4-477c-88f2-26c00722fccc",
     "showTitle": false,
     "title": ""
    }
   },
   "source": [
    "<h3>Calculate the total number of employees in each department.<\\h3>"
   ]
  },
  {
   "cell_type": "code",
   "execution_count": 0,
   "metadata": {
    "application/vnd.databricks.v1+cell": {
     "cellMetadata": {
      "byteLimit": 2048000,
      "rowLimit": 10000
     },
     "inputWidgets": {},
     "nuid": "8b3f90d6-501d-473d-9fb3-10f49f38781d",
     "showTitle": false,
     "title": ""
    }
   },
   "outputs": [
    {
     "output_type": "stream",
     "name": "stdout",
     "output_type": "stream",
     "text": [
      "+-----------+-------+\n| department|tot_emp|\n+-----------+-------+\n|Engineering|      3|\n|  Marketing|      2|\n|         HR|      1|\n+-----------+-------+\n\n"
     ]
    }
   ],
   "source": [
    "df1=df.groupBy(\"department\").agg(count(\"employee_id\").alias(\"tot_emp\"))\n",
    "df1.show()"
   ]
  }
 ],
 "metadata": {
  "application/vnd.databricks.v1+notebook": {
   "dashboards": [],
   "language": "python",
   "notebookMetadata": {
    "pythonIndentUnit": 4
   },
   "notebookName": "Day 04 of #30daysofPyspark",
   "widgets": {}
  }
 },
 "nbformat": 4,
 "nbformat_minor": 0
}
