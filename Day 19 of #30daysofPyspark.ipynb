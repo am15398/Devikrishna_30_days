{
 "cells": [
  {
   "cell_type": "code",
   "execution_count": 0,
   "metadata": {
    "application/vnd.databricks.v1+cell": {
     "cellMetadata": {
      "byteLimit": 2048000,
      "rowLimit": 10000
     },
     "inputWidgets": {},
     "nuid": "acac3a1c-8a7b-4b52-b596-1085642e47d5",
     "showTitle": false,
     "title": ""
    }
   },
   "outputs": [],
   "source": [
    "\n",
    "from pyspark.sql.functions import row_number\n",
    "from pyspark.sql.window import Window\n"
   ]
  },
  {
   "cell_type": "code",
   "execution_count": 0,
   "metadata": {
    "application/vnd.databricks.v1+cell": {
     "cellMetadata": {
      "byteLimit": 2048000,
      "rowLimit": 10000
     },
     "inputWidgets": {},
     "nuid": "04405e1f-295c-4ece-9e5f-64c47d858a8a",
     "showTitle": false,
     "title": ""
    }
   },
   "outputs": [
    {
     "output_type": "stream",
     "name": "stdout",
     "output_type": "stream",
     "text": [
      "+----------+-------+----------+\n|CUSTOMERID|ORDERID| ORDERDATE|\n+----------+-------+----------+\n|         1|    101|2023-01-15|\n|         1|    101|2023-07-15|\n|         1|    101|2023-07-16|\n|         2|    102|2023-02-20|\n|         1|    103|2023-03-10|\n|         3|    104|2023-04-05|\n|         2|    105|2023-05-12|\n|         2|    105|2023-05-12|\n+----------+-------+----------+\n\n"
     ]
    }
   ],
   "source": [
    "from pyspark.sql import SparkSession\n",
    "spark = SparkSession.builder.appName(\"Top3RecentOrders\").getOrCreate()\n",
    "\n",
    "# Sample data\n",
    "data = [\n",
    "    (1, 101, \"2023-01-15\"),\n",
    "    (1, 101, \"2023-07-15\"),\n",
    "    (1, 101, \"2023-07-16\"),\n",
    "    (2, 102, \"2023-02-20\"),\n",
    "    (1, 103, \"2023-03-10\"),\n",
    "    (3, 104, \"2023-04-05\"),\n",
    "    (2, 105, \"2023-05-12\"),\n",
    "    (2, 105, \"2023-05-12\")\n",
    "]\n",
    "\n",
    "# Define the schema\n",
    "schema = [\"CUSTOMERID\", \"ORDERID\", \"ORDERDATE\"]\n",
    "\n",
    "# Create a DataFrame\n",
    "df = spark.createDataFrame(data, schema)\n",
    "df.show()\n"
   ]
  },
  {
   "cell_type": "markdown",
   "metadata": {
    "application/vnd.databricks.v1+cell": {
     "cellMetadata": {
      "byteLimit": 2048000,
      "rowLimit": 10000
     },
     "inputWidgets": {},
     "nuid": "49b50c5b-0886-480d-9e62-420335d962d4",
     "showTitle": false,
     "title": ""
    }
   },
   "source": [
    "<h3>Retrieve the top 2 most recent orders for each customer</h3>"
   ]
  },
  {
   "cell_type": "code",
   "execution_count": 0,
   "metadata": {
    "application/vnd.databricks.v1+cell": {
     "cellMetadata": {
      "byteLimit": 2048000,
      "rowLimit": 10000
     },
     "inputWidgets": {},
     "nuid": "7271f686-fcdd-4b3d-9b4d-cb285ef8de25",
     "showTitle": false,
     "title": ""
    }
   },
   "outputs": [
    {
     "output_type": "stream",
     "name": "stdout",
     "output_type": "stream",
     "text": [
      "+----------+-------+----------+---+\n|CUSTOMERID|ORDERID| ORDERDATE|rnk|\n+----------+-------+----------+---+\n|         1|    101|2023-07-16|  1|\n|         1|    101|2023-07-15|  2|\n|         1|    103|2023-03-10|  3|\n|         1|    101|2023-01-15|  4|\n|         2|    105|2023-05-12|  1|\n|         2|    105|2023-05-12|  2|\n|         2|    102|2023-02-20|  3|\n|         3|    104|2023-04-05|  1|\n+----------+-------+----------+---+\n\n+----------+-------+----------+---+\n|CUSTOMERID|ORDERID| ORDERDATE|rnk|\n+----------+-------+----------+---+\n|         1|    101|2023-07-16|  1|\n|         1|    101|2023-07-15|  2|\n|         2|    105|2023-05-12|  1|\n|         2|    105|2023-05-12|  2|\n|         3|    104|2023-04-05|  1|\n+----------+-------+----------+---+\n\n"
     ]
    }
   ],
   "source": [
    "win=Window.partitionBy(\"CUSTOMERID\").orderBy(df[\"ORDERDATE\"].desc())\n",
    "df=df.withColumn(\"rnk\",row_number().over(win))\n",
    "df.show()\n",
    "df.filter(df.rnk<3).show()"
   ]
  }
 ],
 "metadata": {
  "application/vnd.databricks.v1+notebook": {
   "dashboards": [],
   "language": "python",
   "notebookMetadata": {
    "pythonIndentUnit": 4
   },
   "notebookName": "Day 19 of #30daysofPyspark",
   "widgets": {}
  }
 },
 "nbformat": 4,
 "nbformat_minor": 0
}
