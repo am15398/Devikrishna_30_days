{
 "cells": [
  {
   "cell_type": "code",
   "execution_count": 0,
   "metadata": {
    "application/vnd.databricks.v1+cell": {
     "cellMetadata": {},
     "inputWidgets": {},
     "nuid": "552766d1-fedb-463c-9af4-99b8d44a63c3",
     "showTitle": false,
     "title": ""
    }
   },
   "outputs": [],
   "source": [
    "pyspark joins\n",
    "\n",
    "1. **Inner Join**: Returns only the rows for which there is a match in both DataFrames based on\n",
    " the specified key or column.\n",
    " \n",
    " result_df = df1.join(df2, on=\"key_column\", \how="inner\")\n",
    "\n",
    "2. **Left Join**: Returns all rows from the left DataFrame (df1), and the matched rows from the\n",
    " right DataFrame (df2). If there's no match in the right DataFrame, null values will be filled in.\n",
    "\n",
    "   result_df = df1.join(df2, on=\"key_column\", \how="left\")\n",
    "\n",
    "3. **Right Join**: Returns all rows from the right DataFrame (df2), and the matched rows from the \n",
    " left DataFrame (df1). If there's no match in the left DataFrame, null values will be filled in.\n",
    "\n",
    "   result_df = df1.join(df2, on=\"key_column\", \how="right\")\n",
    "\n",
    "4. **Full Outer Join**: Returns all rows when there is a match in either the left or right DataFrame.\n",
    " If there's no match, null values will be filled in.\n",
    "\n",
    "   result_df = df1.join(df2, on=\"key_column\", \how="outer\")\n",
    "\n",
    "5. **Left Semi Join**: Returns only the rows from the left DataFrame where there is a match in the \n",
    "right DataFrame. It does not return columns from the right DataFrame.\n",
    "\n",
    "   result_df = df1.join(df2, on=\"key_column\", \how="left_semi\")\n",
    "\n",
    "6. **Left Anti Join**: Returns only the rows from the left DataFrame where there is no match in the \n",
    "right DataFrame. It does not return columns from the right DataFrame.\n",
    "\n",
    "   result_df = df1.join(df2, on=\"key_column\", \how="left_anti\")\n",
    "\n",
    "7. **Cross Join (Cartesian Product)**: Returns a Cartesian product of rows between two DataFrames, \n",
    "effectively combining all possible combinations.\n",
    "\n",
    "   result_df = df1.crossJoin(df2)\n",
    "\n",
    "When using these join operations, replace `\"key_column\"` with the actual column name that you want\n",
    " to use as the join key.\n",
    "\n",
    "result_df = df1.join(df2, on=\"key_column\", \how="join_type\")\n",
    "\n",
    "Where `df1` and `df2` are the DataFrames you want to join, `\"key_column\"` is the common column you \n",
    "want to join on, and `\"join_type\"` is one of the join types mentioned above \n",
    "(e.g., \"inner\", \"left\", \"right\", \"outer\", \"left_semi\", \"left_anti\")."
   ]
  }
 ],
 "metadata": {
  "application/vnd.databricks.v1+notebook": {
   "dashboards": [],
   "language": "python",
   "notebookMetadata": {
    "pythonIndentUnit": 4
   },
   "notebookName": "Day 26 of #30daysofPyspark",
   "widgets": {}
  }
 },
 "nbformat": 4,
 "nbformat_minor": 0
}
