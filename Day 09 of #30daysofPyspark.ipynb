{
 "cells": [
  {
   "cell_type": "code",
   "execution_count": 0,
   "metadata": {
    "application/vnd.databricks.v1+cell": {
     "cellMetadata": {
      "byteLimit": 2048000,
      "rowLimit": 10000
     },
     "inputWidgets": {},
     "nuid": "5147bee8-378c-4886-9ab7-10757d2abaa3",
     "showTitle": false,
     "title": ""
    }
   },
   "outputs": [],
   "source": [
    "from pyspark.sql.functions import sum,desc,avg,count,max,col,lag\n",
    "from pyspark.sql.window import Window"
   ]
  },
  {
   "cell_type": "code",
   "execution_count": 0,
   "metadata": {
    "application/vnd.databricks.v1+cell": {
     "cellMetadata": {
      "byteLimit": 2048000,
      "rowLimit": 10000
     },
     "inputWidgets": {},
     "nuid": "0835c345-9846-413d-a473-40196b2e3a71",
     "showTitle": false,
     "title": ""
    }
   },
   "outputs": [
    {
     "output_type": "stream",
     "name": "stdout",
     "output_type": "stream",
     "text": [
      "+-------+--------+-------------------+\n|user_id|  action|          timestamp|\n+-------+--------+-------------------+\n|      1|   login|2023-08-20 10:23:45|\n|      2|    view|2023-08-20 11:15:30|\n|      1|purchase|2023-08-20 12:45:18|\n|      3|    view|2023-08-20 13:30:22|\n+-------+--------+-------------------+\n\n"
     ]
    }
   ],
   "source": [
    "data = [\n",
    "    (1, \"login\", \"2023-08-20 10:23:45\"),\n",
    "    (2, \"view\", \"2023-08-20 11:15:30\"),\n",
    "    (1, \"purchase\", \"2023-08-20 12:45:18\"),\n",
    "    (3, \"view\", \"2023-08-20 13:30:22\")\n",
    "]\n",
    "columns = [\"user_id\", \"action\", \"timestamp\"]\n",
    "\n",
    "df=spark.createDataFrame(data,columns)\n",
    "df.show()"
   ]
  },
  {
   "cell_type": "markdown",
   "metadata": {
    "application/vnd.databricks.v1+cell": {
     "cellMetadata": {
      "byteLimit": 2048000,
      "rowLimit": 10000
     },
     "inputWidgets": {},
     "nuid": "dc3f900d-dbde-4133-9f77-8cff2e4a6f35",
     "showTitle": false,
     "title": ""
    }
   },
   "source": [
    "<h3>Count the number of actions.</h3>"
   ]
  },
  {
   "cell_type": "code",
   "execution_count": 0,
   "metadata": {
    "application/vnd.databricks.v1+cell": {
     "cellMetadata": {
      "byteLimit": 2048000,
      "rowLimit": 10000
     },
     "inputWidgets": {},
     "nuid": "120a606c-d70b-4d0b-94cf-5b1ed34e04d7",
     "showTitle": false,
     "title": ""
    }
   },
   "outputs": [
    {
     "output_type": "stream",
     "name": "stdout",
     "output_type": "stream",
     "text": [
      "+--------+-----+\n|  action|count|\n+--------+-----+\n|   login|    1|\n|    view|    2|\n|purchase|    1|\n+--------+-----+\n\n"
     ]
    }
   ],
   "source": [
    "df.groupBy(\"action\").count().show()"
   ]
  },
  {
   "cell_type": "markdown",
   "metadata": {
    "application/vnd.databricks.v1+cell": {
     "cellMetadata": {
      "byteLimit": 2048000,
      "rowLimit": 10000
     },
     "inputWidgets": {},
     "nuid": "fb88410c-1a80-43fa-a410-7b99621a012e",
     "showTitle": false,
     "title": ""
    }
   },
   "source": [
    "<h3>What are the unique actions recorded in the dataset.</h3>"
   ]
  },
  {
   "cell_type": "code",
   "execution_count": 0,
   "metadata": {
    "application/vnd.databricks.v1+cell": {
     "cellMetadata": {
      "byteLimit": 2048000,
      "rowLimit": 10000
     },
     "inputWidgets": {},
     "nuid": "4e8f2bfe-b909-463a-85a4-581c9ae285cc",
     "showTitle": false,
     "title": ""
    }
   },
   "outputs": [
    {
     "output_type": "stream",
     "name": "stdout",
     "output_type": "stream",
     "text": [
      "+--------+\n|  action|\n+--------+\n|   login|\n|purchase|\n+--------+\n\n"
     ]
    }
   ],
   "source": [
    "df.groupBy(\"action\").agg(count(\"*\").alias(\"cnt\")).filter(col(\"cnt\")==1).select(\"action\").show()"
   ]
  },
  {
   "cell_type": "markdown",
   "metadata": {
    "application/vnd.databricks.v1+cell": {
     "cellMetadata": {
      "byteLimit": 2048000,
      "rowLimit": 10000
     },
     "inputWidgets": {},
     "nuid": "c7bf5271-674b-4037-b86d-46f4fcf6538c",
     "showTitle": false,
     "title": ""
    }
   },
   "source": [
    "<h3>Calculate the time duration between consecutive activities for each user</h3>"
   ]
  },
  {
   "cell_type": "code",
   "execution_count": 0,
   "metadata": {
    "application/vnd.databricks.v1+cell": {
     "cellMetadata": {
      "byteLimit": 2048000,
      "rowLimit": 10000
     },
     "inputWidgets": {},
     "nuid": "0341109f-7e30-4627-8d32-ec08b4af8ab4",
     "showTitle": false,
     "title": ""
    }
   },
   "outputs": [
    {
     "output_type": "stream",
     "name": "stdout",
     "output_type": "stream",
     "text": [
      "+-------+--------+-------------------+-------------------+---------+\n|user_id|  action|          timestamp|           lag_time|time_diff|\n+-------+--------+-------------------+-------------------+---------+\n|      1|   login|2023-08-20 10:23:45|               null|     null|\n|      1|purchase|2023-08-20 12:45:18|2023-08-20 10:23:45|     8493|\n|      2|    view|2023-08-20 11:15:30|               null|     null|\n|      3|    view|2023-08-20 13:30:22|               null|     null|\n+-------+--------+-------------------+-------------------+---------+\n\n"
     ]
    }
   ],
   "source": [
    "df=df.withColumn(\"timestamp\",df.timestamp.cast(\"timestamp\"))\n",
    "df1=df.withColumn(\"lag_time\",lag(\"timestamp\").over(Window.partitionBy(\"user_id\").orderBy(\"timestamp\")))\n",
    "df1.withColumn(\"time_diff\",df1.timestamp.cast(\"long\")-df1.lag_time.cast(\"long\")).show()"
   ]
  }
 ],
 "metadata": {
  "application/vnd.databricks.v1+notebook": {
   "dashboards": [],
   "language": "python",
   "notebookMetadata": {
    "pythonIndentUnit": 4
   },
   "notebookName": "Day 09 of #30daysofPyspark",
   "widgets": {}
  }
 },
 "nbformat": 4,
 "nbformat_minor": 0
}
