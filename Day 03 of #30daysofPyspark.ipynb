{
 "cells": [
  {
   "cell_type": "code",
   "execution_count": 0,
   "metadata": {
    "application/vnd.databricks.v1+cell": {
     "cellMetadata": {
      "byteLimit": 2048000,
      "rowLimit": 10000
     },
     "inputWidgets": {},
     "nuid": "acac3a1c-8a7b-4b52-b596-1085642e47d5",
     "showTitle": false,
     "title": ""
    }
   },
   "outputs": [],
   "source": [
    "from pyspark.sql.functions import sum,desc,avg"
   ]
  },
  {
   "cell_type": "code",
   "execution_count": 0,
   "metadata": {
    "application/vnd.databricks.v1+cell": {
     "cellMetadata": {
      "byteLimit": 2048000,
      "rowLimit": 10000
     },
     "inputWidgets": {},
     "nuid": "20a53156-2f43-4f25-9c68-78b45feba65b",
     "showTitle": false,
     "title": ""
    }
   },
   "outputs": [
    {
     "output_type": "stream",
     "name": "stdout",
     "output_type": "stream",
     "text": [
      "+----------+----------+-----------+-----+-------------+\n|product_id|product_id|   category|price|quantity_sold|\n+----------+----------+-----------+-----+-------------+\n|         1| Product A|Electronics|  500|          100|\n|         2| Product B|   Clothing|   50|          200|\n|         3| Product C|Electronics|  800|           50|\n|         4| Product D|     Beauty|   30|          300|\n|         5| Product E|   Clothing|   75|          150|\n+----------+----------+-----------+-----+-------------+\n\n"
     ]
    }
   ],
   "source": [
    "from pyspark.sql import SparkSession\n",
    "\n",
    "spark=SparkSession.builder.appName(\"sales\").getOrCreate()\n",
    "data=[\n",
    "    (1,\"Product A\",\"Electronics\",500,100),\n",
    "(2,\"Product B\",\"Clothing\",50,200),\n",
    "(3,\"Product C\",\"Electronics\",800,50),\n",
    "(4,\"Product D\",\"Beauty\",30,300),\n",
    "(5,\"Product E\",\"Clothing\",75,150),\n",
    "]\n",
    "col=[\"product_id\",\"product_id\",\"category\",\"price\",\"quantity_sold\"]\n",
    "df=spark.createDataFrame(data,col)\n",
    "df.show()"
   ]
  },
  {
   "cell_type": "markdown",
   "metadata": {
    "application/vnd.databricks.v1+cell": {
     "cellMetadata": {
      "byteLimit": 2048000,
      "rowLimit": 10000
     },
     "inputWidgets": {},
     "nuid": "f1c8ee7b-996d-49af-9d6d-2aff27d39797",
     "showTitle": false,
     "title": ""
    }
   },
   "source": [
    "<h3>Calculate the total revenue generated from all sales.<\\h3>"
   ]
  },
  {
   "cell_type": "code",
   "execution_count": 0,
   "metadata": {
    "application/vnd.databricks.v1+cell": {
     "cellMetadata": {
      "byteLimit": 2048000,
      "rowLimit": 10000
     },
     "inputWidgets": {},
     "nuid": "c83310af-e96d-43ab-8f0a-0c87783d2e33",
     "showTitle": false,
     "title": ""
    }
   },
   "outputs": [
    {
     "output_type": "stream",
     "name": "stdout",
     "output_type": "stream",
     "text": [
      "+-------------+\n|total_revenue|\n+-------------+\n|       120250|\n+-------------+\n\n"
     ]
    }
   ],
   "source": [
    "df1=df.withColumn(\"rev\",df.price*df.quantity_sold).agg(sum(\"rev\").alias(\"total_revenue\"))\n",
    "df1.show()"
   ]
  },
  {
   "cell_type": "markdown",
   "metadata": {
    "application/vnd.databricks.v1+cell": {
     "cellMetadata": {
      "byteLimit": 2048000,
      "rowLimit": 10000
     },
     "inputWidgets": {},
     "nuid": "1abbf60f-cab6-45a2-ab71-452496a62d82",
     "showTitle": false,
     "title": ""
    }
   },
   "source": [
    "<h3>Find the top 3 best-selling products based on the quantity sold.<\\h3>"
   ]
  },
  {
   "cell_type": "code",
   "execution_count": 0,
   "metadata": {
    "application/vnd.databricks.v1+cell": {
     "cellMetadata": {
      "byteLimit": 2048000,
      "rowLimit": 10000
     },
     "inputWidgets": {},
     "nuid": "39c41003-a8b9-4aa5-8f55-2ed08e026280",
     "showTitle": false,
     "title": ""
    }
   },
   "outputs": [
    {
     "output_type": "stream",
     "name": "stdout",
     "output_type": "stream",
     "text": [
      "+----------+----------+--------+-----+-------------+\n|product_id|product_id|category|price|quantity_sold|\n+----------+----------+--------+-----+-------------+\n|         4| Product D|  Beauty|   30|          300|\n|         2| Product B|Clothing|   50|          200|\n|         5| Product E|Clothing|   75|          150|\n+----------+----------+--------+-----+-------------+\n\n"
     ]
    }
   ],
   "source": [
    "df2=df.orderBy(desc(\"quantity_sold\")).limit(3)\n",
    "df2.show()"
   ]
  },
  {
   "cell_type": "markdown",
   "metadata": {
    "application/vnd.databricks.v1+cell": {
     "cellMetadata": {
      "byteLimit": 2048000,
      "rowLimit": 10000
     },
     "inputWidgets": {},
     "nuid": "00148141-242c-4c6d-a56d-97a667b7fc4e",
     "showTitle": false,
     "title": ""
    }
   },
   "source": [
    "<h3>Calculate the average price of products in each category.<\\h3>"
   ]
  },
  {
   "cell_type": "code",
   "execution_count": 0,
   "metadata": {
    "application/vnd.databricks.v1+cell": {
     "cellMetadata": {
      "byteLimit": 2048000,
      "rowLimit": 10000
     },
     "inputWidgets": {},
     "nuid": "9296be7d-3180-4e39-bc42-50b021edc6c7",
     "showTitle": false,
     "title": ""
    }
   },
   "outputs": [
    {
     "output_type": "stream",
     "name": "stdout",
     "output_type": "stream",
     "text": [
      "+-----------+---------+\n|   category|avg_price|\n+-----------+---------+\n|Electronics|    650.0|\n|   Clothing|     62.5|\n|     Beauty|     30.0|\n+-----------+---------+\n\n"
     ]
    }
   ],
   "source": [
    "df2=df.groupBy(\"category\").agg(avg(\"price\").alias(\"avg_price\"))\n",
    "df2.show()"
   ]
  },
  {
   "cell_type": "markdown",
   "metadata": {
    "application/vnd.databricks.v1+cell": {
     "cellMetadata": {},
     "inputWidgets": {},
     "nuid": "1189f661-31b4-477c-88f2-26c00722fccc",
     "showTitle": false,
     "title": ""
    }
   },
   "source": [
    "<h3>identify the category with the highest total revenue.<\\h3>"
   ]
  },
  {
   "cell_type": "code",
   "execution_count": 0,
   "metadata": {
    "application/vnd.databricks.v1+cell": {
     "cellMetadata": {
      "byteLimit": 2048000,
      "rowLimit": 10000
     },
     "inputWidgets": {},
     "nuid": "8b3f90d6-501d-473d-9fb3-10f49f38781d",
     "showTitle": false,
     "title": ""
    }
   },
   "outputs": [
    {
     "output_type": "stream",
     "name": "stdout",
     "output_type": "stream",
     "text": [
      "Row(category='Electronics', tot_rev=90000)\n"
     ]
    }
   ],
   "source": [
    "df3=df.withColumn(\"rev\",df.price*df.quantity_sold).groupBy(\"category\").agg(sum(\"rev\").alias(\"tot_rev\"))\n",
    "hig_rev=df3.orderBy(desc(\"tot_rev\")).first()\n",
    "print(hig_rev)"
   ]
  }
 ],
 "metadata": {
  "application/vnd.databricks.v1+notebook": {
   "dashboards": [],
   "language": "python",
   "notebookMetadata": {
    "pythonIndentUnit": 4
   },
   "notebookName": "Day 03 of #30daysofPyspark",
   "widgets": {}
  }
 },
 "nbformat": 4,
 "nbformat_minor": 0
}
