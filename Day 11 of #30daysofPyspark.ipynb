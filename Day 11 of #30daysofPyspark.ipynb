{
 "cells": [
  {
   "cell_type": "code",
   "execution_count": 0,
   "metadata": {
    "application/vnd.databricks.v1+cell": {
     "cellMetadata": {
      "byteLimit": 2048000,
      "rowLimit": 10000
     },
     "inputWidgets": {},
     "nuid": "acac3a1c-8a7b-4b52-b596-1085642e47d5",
     "showTitle": false,
     "title": ""
    }
   },
   "outputs": [],
   "source": [
    "from pyspark.sql.functions import unix_timestamp\n",
    "from pyspark.sql.window import Window\n"
   ]
  },
  {
   "cell_type": "code",
   "execution_count": 0,
   "metadata": {
    "application/vnd.databricks.v1+cell": {
     "cellMetadata": {
      "byteLimit": 2048000,
      "rowLimit": 10000
     },
     "inputWidgets": {},
     "nuid": "20a53156-2f43-4f25-9c68-78b45feba65b",
     "showTitle": false,
     "title": ""
    }
   },
   "outputs": [
    {
     "output_type": "stream",
     "name": "stdout",
     "output_type": "stream",
     "text": [
      "+-------+----------------+------+\n|user_id|       timestamp|action|\n+-------+----------------+------+\n|      1|2022-01-01 10:00| start|\n|      1|2022-01-01 10:15|   end|\n|      2|2022-01-01 11:00| start|\n|      1|2022-01-01 11:30| start|\n|      2|2022-01-01 11:45|   end|\n|      1|2022-01-01 12:00|   end|\n+-------+----------------+------+\n\n"
     ]
    }
   ],
   "source": [
    "from pyspark.sql import SparkSession\n",
    "\n",
    "spark=SparkSession.builder.appName(\"user_info\").getOrCreate()\n",
    "\n",
    "\n",
    "data = [\n",
    "    (1, \"2022-01-01 10:00\", \"start\"),\n",
    "    (1, \"2022-01-01 10:15\", \"end\"),\n",
    "    (2, \"2022-01-01 11:00\", \"start\"),\n",
    "    (1, \"2022-01-01 11:30\", \"start\"),\n",
    "    (2, \"2022-01-01 11:45\", \"end\"),\n",
    "    (1, \"2022-01-01 12:00\", \"end\")\n",
    "]\n",
    "schema = [\"user_id\", \"timestamp\", \"action\"]\n",
    "\n",
    "df=spark.createDataFrame(data,schema)\n",
    "df.show()\n"
   ]
  },
  {
   "cell_type": "code",
   "execution_count": 0,
   "metadata": {
    "application/vnd.databricks.v1+cell": {
     "cellMetadata": {
      "byteLimit": 2048000,
      "rowLimit": 10000
     },
     "inputWidgets": {},
     "nuid": "ce566e3b-33a3-4f0c-a6aa-f9677da8d1a9",
     "showTitle": false,
     "title": ""
    }
   },
   "outputs": [
    {
     "output_type": "stream",
     "name": "stdout",
     "output_type": "stream",
     "text": [
      "+-------+----------------+------+--------------+\n|user_id|       timestamp|action|unix_timestamp|\n+-------+----------------+------+--------------+\n|      1|2022-01-01 10:00| start|    1641031200|\n|      1|2022-01-01 10:15|   end|    1641032100|\n|      2|2022-01-01 11:00| start|    1641034800|\n|      1|2022-01-01 11:30| start|    1641036600|\n|      2|2022-01-01 11:45|   end|    1641037500|\n|      1|2022-01-01 12:00|   end|    1641038400|\n+-------+----------------+------+--------------+\n\n"
     ]
    }
   ],
   "source": [
    "df=df.withColumn(\"unix_timestamp\",unix_timestamp(\"timestamp\",\"yyyy-MM-dd HH:mm\"))\n",
    "df.show()"
   ]
  },
  {
   "cell_type": "markdown",
   "metadata": {
    "application/vnd.databricks.v1+cell": {
     "cellMetadata": {},
     "inputWidgets": {},
     "nuid": "cfbe9021-6f03-4a0a-af60-b614506baeb7",
     "showTitle": false,
     "title": ""
    }
   },
   "source": [
    "<h3>𝐂𝐚𝐥𝐜𝐮𝐥𝐚𝐭𝐞 𝐬𝐞𝐬𝐬𝐢𝐨𝐧 duration</h3>"
   ]
  },
  {
   "cell_type": "code",
   "execution_count": 0,
   "metadata": {
    "application/vnd.databricks.v1+cell": {
     "cellMetadata": {
      "byteLimit": 2048000,
      "rowLimit": 10000
     },
     "inputWidgets": {},
     "nuid": "63d9dd6c-61f6-41a6-a63f-b0d3fc8395bd",
     "showTitle": false,
     "title": ""
    }
   },
   "outputs": [
    {
     "output_type": "stream",
     "name": "stdout",
     "output_type": "stream",
     "text": [
      "+-------+----------------+------+--------------+----------------+\n|user_id|       timestamp|action|unix_timestamp|session_duration|\n+-------+----------------+------+--------------+----------------+\n|      1|2022-01-01 10:00| start|    1641031200|            null|\n|      1|2022-01-01 10:15|   end|    1641032100|             900|\n|      1|2022-01-01 11:30| start|    1641036600|            null|\n|      1|2022-01-01 12:00|   end|    1641038400|            1800|\n|      2|2022-01-01 11:00| start|    1641034800|            null|\n|      2|2022-01-01 11:45|   end|    1641037500|            2700|\n+-------+----------------+------+--------------+----------------+\n\n"
     ]
    }
   ],
   "source": [
    "win=Window().partitionBy(\"user_id\").orderBy(\"unix_timestamp\")\n",
    "df=df.withColumn(\"session_duration\",when(col(\"action\")==\"end\",col(\"unix_timestamp\")-lag(col(\"unix_timestamp\")).over(win)))\n",
    "df.show()"
   ]
  },
  {
   "cell_type": "markdown",
   "metadata": {
    "application/vnd.databricks.v1+cell": {
     "cellMetadata": {},
     "inputWidgets": {},
     "nuid": "149e89a4-74fe-4bb9-8d9a-7ab74c0687c0",
     "showTitle": false,
     "title": ""
    }
   },
   "source": [
    "<h3>𝐂𝐚𝐥𝐜𝐮𝐥𝐚𝐭𝐞 𝐭𝐨𝐭𝐚𝐥 𝐬𝐞𝐬𝐬𝐢𝐨𝐧 duration 𝐩𝐞𝐫 𝐮𝐬𝐞𝐫.</h3>"
   ]
  },
  {
   "cell_type": "code",
   "execution_count": 0,
   "metadata": {
    "application/vnd.databricks.v1+cell": {
     "cellMetadata": {
      "byteLimit": 2048000,
      "rowLimit": 10000
     },
     "inputWidgets": {},
     "nuid": "338e6ea5-0d62-4440-91d5-beeb1ab30e54",
     "showTitle": false,
     "title": ""
    }
   },
   "outputs": [
    {
     "output_type": "stream",
     "name": "stdout",
     "output_type": "stream",
     "text": [
      "+-------+----------------+------+--------------+----------------+----------------------+\n|user_id|       timestamp|action|unix_timestamp|session_duration|total_session_duration|\n+-------+----------------+------+--------------+----------------+----------------------+\n|      1|2022-01-01 10:00| start|    1641031200|            null|                  2700|\n|      1|2022-01-01 10:15|   end|    1641032100|             900|                  2700|\n|      1|2022-01-01 11:30| start|    1641036600|            null|                  2700|\n|      1|2022-01-01 12:00|   end|    1641038400|            1800|                  2700|\n|      2|2022-01-01 11:00| start|    1641034800|            null|                  2700|\n|      2|2022-01-01 11:45|   end|    1641037500|            2700|                  2700|\n+-------+----------------+------+--------------+----------------+----------------------+\n\n+-------+----------------+------+--------------+----------------+----------------------+\n|user_id|       timestamp|action|unix_timestamp|session_duration|total_session_duration|\n+-------+----------------+------+--------------+----------------+----------------------+\n|      1|2022-01-01 10:00| start|    1641031200|            null|                  null|\n|      1|2022-01-01 10:15|   end|    1641032100|             900|                   900|\n|      1|2022-01-01 11:30| start|    1641036600|            null|                   900|\n|      1|2022-01-01 12:00|   end|    1641038400|            1800|                  2700|\n|      2|2022-01-01 11:00| start|    1641034800|            null|                  null|\n|      2|2022-01-01 11:45|   end|    1641037500|            2700|                  2700|\n+-------+----------------+------+--------------+----------------+----------------------+\n\n"
     ]
    }
   ],
   "source": [
    "df.withColumn(\"total_session_duration\",sum(\"session_duration\").over(Window.partitionBy(\"user_id\"))).show()\n",
    "df.withColumn(\"total_session_duration\",sum(\"session_duration\").over(Window.partitionBy(\"user_id\").orderBy(\"timestamp\"))).show()"
   ]
  }
 ],
 "metadata": {
  "application/vnd.databricks.v1+notebook": {
   "dashboards": [],
   "language": "python",
   "notebookMetadata": {
    "pythonIndentUnit": 4
   },
   "notebookName": "Day 11 of #30daysofPyspark",
   "widgets": {}
  }
 },
 "nbformat": 4,
 "nbformat_minor": 0
}
