{
 "cells": [
  {
   "cell_type": "code",
   "execution_count": 0,
   "metadata": {
    "application/vnd.databricks.v1+cell": {
     "cellMetadata": {
      "byteLimit": 2048000,
      "rowLimit": 10000
     },
     "inputWidgets": {},
     "nuid": "982089b9-1926-4fce-bdfa-63784beee338",
     "showTitle": false,
     "title": ""
    }
   },
   "outputs": [],
   "source": [
    "from pyspark.sql.functions import when,sum"
   ]
  },
  {
   "cell_type": "code",
   "execution_count": 0,
   "metadata": {
    "application/vnd.databricks.v1+cell": {
     "cellMetadata": {
      "byteLimit": 2048000,
      "rowLimit": 10000
     },
     "inputWidgets": {},
     "nuid": "04405e1f-295c-4ece-9e5f-64c47d858a8a",
     "showTitle": false,
     "title": ""
    }
   },
   "outputs": [
    {
     "output_type": "stream",
     "name": "stdout",
     "output_type": "stream",
     "text": [
      "+----------+-----------+----------+\n|sales_date|Electronics|sold_items|\n+----------+-----------+----------+\n|2023-09-01|         TV|       100|\n|2023-09-01|     Laptop|        80|\n|2023-09-02|         TV|       150|\n|2023-09-02|     Laptop|        75|\n|2023-09-03|         TV|       200|\n|2023-09-03|     Laptop|         0|\n|2023-09-04|         TV|        98|\n|2023-09-04|     Laptop|       100|\n+----------+-----------+----------+\n\n"
     ]
    }
   ],
   "source": [
    "from pyspark.sql import SparkSession\n",
    "from pyspark.sql.functions import trim, lower, date_format, col,count\n",
    "\n",
    "# Create a SparkSession\n",
    "spark = SparkSession.builder.appName(\"SalesAnalysis\").getOrCreate()\n",
    "\n",
    "# Sample Sales data\n",
    "data = [(\"2023-09-01\",\"TV\",100),\n",
    "        (\"2023-09-01\",\"Laptop\",80),\n",
    "        (\"2023-09-02\",\"TV\",150),\n",
    "        (\"2023-09-02\",\"Laptop\",75),\n",
    "        (\"2023-09-03\",\"TV\",200),\n",
    "        (\"2023-09-03\",\"Laptop\",0),\n",
    "        (\"2023-09-04\",\"TV\",98),\n",
    "        (\"2023-09-04\",\"Laptop\",100)]\n",
    "\n",
    "# Create a DataFrame\n",
    "df = spark.createDataFrame(data, [\"sales_date\",\"Electronics\",\"sold_items\"])\n",
    "df.show()\n",
    "\n"
   ]
  },
  {
   "cell_type": "markdown",
   "metadata": {
    "application/vnd.databricks.v1+cell": {
     "cellMetadata": {},
     "inputWidgets": {},
     "nuid": "85b83a1f-b5ff-489d-b112-9ca8f10e9245",
     "showTitle": false,
     "title": ""
    }
   },
   "source": [
    "<h3>𝐂𝐨𝐧𝐯𝐞𝐫𝐭 𝐭𝐡𝐞 𝐃𝐚𝐭𝐞 𝐢𝐧𝐭𝐨 𝐃𝐚𝐭𝐞𝐟𝐨𝐫𝐦𝐚𝐭</h3>"
   ]
  },
  {
   "cell_type": "code",
   "execution_count": 0,
   "metadata": {
    "application/vnd.databricks.v1+cell": {
     "cellMetadata": {
      "byteLimit": 2048000,
      "rowLimit": 10000
     },
     "inputWidgets": {},
     "nuid": "b379326b-343a-46fe-ba80-41054ac1c331",
     "showTitle": false,
     "title": ""
    }
   },
   "outputs": [
    {
     "output_type": "stream",
     "name": "stdout",
     "output_type": "stream",
     "text": [
      "+----------+-----------+----------+\n|sales_date|Electronics|sold_items|\n+----------+-----------+----------+\n|2023-09-01|         TV|       100|\n|2023-09-01|     Laptop|        80|\n|2023-09-02|         TV|       150|\n|2023-09-02|     Laptop|        75|\n|2023-09-03|         TV|       200|\n|2023-09-03|     Laptop|         0|\n|2023-09-04|         TV|        98|\n|2023-09-04|     Laptop|       100|\n+----------+-----------+----------+\n\n"
     ]
    }
   ],
   "source": [
    "df=df.withColumn(\"sales_date\",df.sales_date.cast(\"date\"))\n",
    "df.show()"
   ]
  },
  {
   "cell_type": "markdown",
   "metadata": {
    "application/vnd.databricks.v1+cell": {
     "cellMetadata": {},
     "inputWidgets": {},
     "nuid": "61c238c8-f9e2-4258-8a5c-e6211d3da1cd",
     "showTitle": false,
     "title": ""
    }
   },
   "source": [
    "<h3> 𝐅𝐢𝐧𝐝 𝐭𝐡𝐞 𝐝𝐢𝐟𝐟𝐞𝐫𝐞𝐧𝐜𝐞𝐬 𝐨𝐟 𝐒𝐚𝐥𝐞𝐬 𝐇𝐚𝐩𝐩𝐞𝐧 𝐢𝐧 𝐓𝐕 𝐚𝐧𝐝 𝐋𝐚𝐩𝐭𝐨𝐩 𝐢𝐧 𝐚 𝐒𝐚𝐦𝐞𝐃𝐚𝐲</h3>"
   ]
  },
  {
   "cell_type": "code",
   "execution_count": 0,
   "metadata": {
    "application/vnd.databricks.v1+cell": {
     "cellMetadata": {
      "byteLimit": 2048000,
      "rowLimit": 10000
     },
     "inputWidgets": {},
     "nuid": "7077066d-9664-40bb-8084-b9e754943eda",
     "showTitle": false,
     "title": ""
    }
   },
   "outputs": [
    {
     "output_type": "stream",
     "name": "stdout",
     "output_type": "stream",
     "text": [
      "+----------+----+\n|sales_date|diff|\n+----------+----+\n|2023-09-01|  20|\n|2023-09-02|  75|\n|2023-09-03| 200|\n|2023-09-04|  -2|\n+----------+----+\n\n"
     ]
    }
   ],
   "source": [
    "df.groupBy(\"sales_date\").agg(sum(when(df.Electronics==\"TV\",df.sold_items).otherwise(0)- \\\n",
    "    when(df.Electronics==\"Laptop\",df.sold_items).otherwise(0)).alias(\"diff\")).show()"
   ]
  },
  {
   "cell_type": "code",
   "execution_count": 0,
   "metadata": {
    "application/vnd.databricks.v1+cell": {
     "cellMetadata": {
      "byteLimit": 2048000,
      "rowLimit": 10000
     },
     "inputWidgets": {},
     "nuid": "33ecf9f2-4214-4b39-abef-177eb92525de",
     "showTitle": false,
     "title": ""
    }
   },
   "outputs": [
    {
     "output_type": "stream",
     "name": "stdout",
     "output_type": "stream",
     "text": [
      "+----------+-----------+----------+---+\n|sales_date|Electronics|sold_items|ele|\n+----------+-----------+----------+---+\n|2023-09-01|         TV|       100|100|\n|2023-09-01|     Laptop|        80|  0|\n|2023-09-02|         TV|       150|150|\n|2023-09-02|     Laptop|        75|  0|\n|2023-09-03|         TV|       200|200|\n|2023-09-03|     Laptop|         0|  0|\n|2023-09-04|         TV|        98| 98|\n|2023-09-04|     Laptop|       100|  0|\n+----------+-----------+----------+---+\n\n+----------+-----------+----------+---+\n|sales_date|Electronics|sold_items|lap|\n+----------+-----------+----------+---+\n|2023-09-01|         TV|       100|  0|\n|2023-09-01|     Laptop|        80| 80|\n|2023-09-02|         TV|       150|  0|\n|2023-09-02|     Laptop|        75| 75|\n|2023-09-03|         TV|       200|  0|\n|2023-09-03|     Laptop|         0|  0|\n|2023-09-04|         TV|        98|  0|\n|2023-09-04|     Laptop|       100|100|\n+----------+-----------+----------+---+\n\n"
     ]
    }
   ],
   "source": [
    "df.withColumn(\"ele\",when(df.Electronics==\"TV\",df.sold_items).otherwise(0)).show()\n",
    "df.withColumn(\"lap\",when(df.Electronics==\"Laptop\",df.sold_items).otherwise(0)).show()"
   ]
  }
 ],
 "metadata": {
  "application/vnd.databricks.v1+notebook": {
   "dashboards": [],
   "language": "python",
   "notebookMetadata": {
    "pythonIndentUnit": 4
   },
   "notebookName": "Day 25 of #30daysofPyspark",
   "widgets": {}
  }
 },
 "nbformat": 4,
 "nbformat_minor": 0
}
