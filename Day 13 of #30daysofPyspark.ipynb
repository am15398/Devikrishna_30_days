{
 "cells": [
  {
   "cell_type": "code",
   "execution_count": 0,
   "metadata": {
    "application/vnd.databricks.v1+cell": {
     "cellMetadata": {
      "byteLimit": 2048000,
      "rowLimit": 10000
     },
     "inputWidgets": {},
     "nuid": "acac3a1c-8a7b-4b52-b596-1085642e47d5",
     "showTitle": false,
     "title": ""
    }
   },
   "outputs": [],
   "source": [
    "from pyspark.sql.functions import avg\n",
    "from pyspark.sql.window import Window\n"
   ]
  },
  {
   "cell_type": "code",
   "execution_count": 0,
   "metadata": {
    "application/vnd.databricks.v1+cell": {
     "cellMetadata": {
      "byteLimit": 2048000,
      "rowLimit": 10000
     },
     "inputWidgets": {},
     "nuid": "20a53156-2f43-4f25-9c68-78b45feba65b",
     "showTitle": false,
     "title": ""
    }
   },
   "outputs": [
    {
     "output_type": "stream",
     "name": "stdout",
     "output_type": "stream",
     "text": [
      "+------+-------------------+-----+\n|symbol|          timestamp|price|\n+------+-------------------+-----+\n|  AAPL|2023-08-26 09:00:00|150.0|\n|  AAPL|2023-08-26 09:30:00|152.0|\n|  AAPL|2023-08-26 10:00:00|153.5|\n|  AAPL|2023-08-26 10:30:00|155.0|\n|  AAPL|2023-08-26 11:00:00|154.5|\n|  AAPL|2023-08-26 11:30:00|156.0|\n|  AAPL|2023-08-26 12:00:00|157.0|\n|  AAPL|2023-08-26 12:30:00|158.0|\n|  AAPL|2023-08-26 13:00:00|158.5|\n|  AAPL|2023-08-26 13:30:00|160.0|\n|  AAPL|2023-08-26 14:00:00|159.0|\n+------+-------------------+-----+\n\n"
     ]
    }
   ],
   "source": [
    "from pyspark.sql import SparkSession\n",
    "\n",
    "spark=SparkSession.builder.appName(\"stockanalysis\").getOrCreate()\n",
    "\n",
    "\n",
    "data = [\n",
    "(\"AAPL\", \"2023-08-26 09:00:00\", 150.0),\n",
    "(\"AAPL\", \"2023-08-26 09:30:00\", 152.0),\n",
    "(\"AAPL\", \"2023-08-26 10:00:00\", 153.5),\n",
    "(\"AAPL\", \"2023-08-26 10:30:00\", 155.0),\n",
    "(\"AAPL\", \"2023-08-26 11:00:00\", 154.5),\n",
    "(\"AAPL\", \"2023-08-26 11:30:00\", 156.0),\n",
    "(\"AAPL\", \"2023-08-26 12:00:00\", 157.0),\n",
    "(\"AAPL\", \"2023-08-26 12:30:00\", 158.0),\n",
    "(\"AAPL\", \"2023-08-26 13:00:00\", 158.5),\n",
    "(\"AAPL\", \"2023-08-26 13:30:00\", 160.0),\n",
    "(\"AAPL\", \"2023-08-26 14:00:00\", 159.0),\n",
    "]\n",
    "schema = [\"symbol\", \"timestamp\", \"price\"]\n",
    "\n",
    "df=spark.createDataFrame(data,schema)\n",
    "df.show()\n"
   ]
  },
  {
   "cell_type": "markdown",
   "metadata": {
    "application/vnd.databricks.v1+cell": {
     "cellMetadata": {},
     "inputWidgets": {},
     "nuid": "54f618f5-c0a1-4ac8-99de-989e748f6b09",
     "showTitle": false,
     "title": ""
    }
   },
   "source": [
    "<h3>convert timestamp from sting to timestamp type</h3>"
   ]
  },
  {
   "cell_type": "code",
   "execution_count": 0,
   "metadata": {
    "application/vnd.databricks.v1+cell": {
     "cellMetadata": {
      "byteLimit": 2048000,
      "rowLimit": 10000
     },
     "inputWidgets": {},
     "nuid": "67e228c6-cb6c-4473-9b3a-fe7bea40e99e",
     "showTitle": false,
     "title": ""
    }
   },
   "outputs": [
    {
     "output_type": "stream",
     "name": "stdout",
     "output_type": "stream",
     "text": [
      "+------+-------------------+-----+\n|symbol|          timestamp|price|\n+------+-------------------+-----+\n|  AAPL|2023-08-26 09:00:00|150.0|\n|  AAPL|2023-08-26 09:30:00|152.0|\n|  AAPL|2023-08-26 10:00:00|153.5|\n|  AAPL|2023-08-26 10:30:00|155.0|\n|  AAPL|2023-08-26 11:00:00|154.5|\n|  AAPL|2023-08-26 11:30:00|156.0|\n|  AAPL|2023-08-26 12:00:00|157.0|\n|  AAPL|2023-08-26 12:30:00|158.0|\n|  AAPL|2023-08-26 13:00:00|158.5|\n|  AAPL|2023-08-26 13:30:00|160.0|\n|  AAPL|2023-08-26 14:00:00|159.0|\n+------+-------------------+-----+\n\n"
     ]
    }
   ],
   "source": [
    "df=df.withColumn(\"timestamp\",df.timestamp.cast(\"timestamp\"))\n",
    "df.show()"
   ]
  },
  {
   "cell_type": "markdown",
   "metadata": {
    "application/vnd.databricks.v1+cell": {
     "cellMetadata": {},
     "inputWidgets": {},
     "nuid": "02c97573-a93c-4f57-962e-63216c2c0f60",
     "showTitle": false,
     "title": ""
    }
   },
   "source": [
    "<h3>calculate the rolling avg price within 3 hour </h3>"
   ]
  },
  {
   "cell_type": "code",
   "execution_count": 0,
   "metadata": {
    "application/vnd.databricks.v1+cell": {
     "cellMetadata": {
      "byteLimit": 2048000,
      "rowLimit": 10000
     },
     "inputWidgets": {},
     "nuid": "90e61532-3acb-4251-b266-287b1226c5d5",
     "showTitle": false,
     "title": ""
    }
   },
   "outputs": [
    {
     "output_type": "stream",
     "name": "stdout",
     "output_type": "stream",
     "text": [
      "+------+-------------------+-----+------------------+\n|symbol|          timestamp|price|  roling_avg_price|\n+------+-------------------+-----+------------------+\n|  AAPL|2023-08-26 09:00:00|150.0|             150.0|\n|  AAPL|2023-08-26 09:30:00|152.0|             151.0|\n|  AAPL|2023-08-26 10:00:00|153.5|151.83333333333334|\n|  AAPL|2023-08-26 10:30:00|155.0|           152.625|\n|  AAPL|2023-08-26 11:00:00|154.5|            153.75|\n|  AAPL|2023-08-26 11:30:00|156.0|            154.75|\n|  AAPL|2023-08-26 12:00:00|157.0|           155.625|\n|  AAPL|2023-08-26 12:30:00|158.0|           156.375|\n|  AAPL|2023-08-26 13:00:00|158.5|           157.375|\n|  AAPL|2023-08-26 13:30:00|160.0|           158.375|\n|  AAPL|2023-08-26 14:00:00|159.0|           158.875|\n+------+-------------------+-----+------------------+\n\n"
     ]
    }
   ],
   "source": [
    "win=Window.partitionBy(\"symbol\").orderBy(\"timestamp\").rowsBetween(-3,0)\n",
    "df.withColumn(\"roling_avg_price\",avg(\"price\").over(win)).show()"
   ]
  }
 ],
 "metadata": {
  "application/vnd.databricks.v1+notebook": {
   "dashboards": [],
   "language": "python",
   "notebookMetadata": {
    "pythonIndentUnit": 4
   },
   "notebookName": "Day 13 of #30daysofPyspark",
   "widgets": {}
  }
 },
 "nbformat": 4,
 "nbformat_minor": 0
}
