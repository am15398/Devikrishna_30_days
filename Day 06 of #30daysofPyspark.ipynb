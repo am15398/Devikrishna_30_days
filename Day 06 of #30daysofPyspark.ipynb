{
 "cells": [
  {
   "cell_type": "code",
   "execution_count": 0,
   "metadata": {
    "application/vnd.databricks.v1+cell": {
     "cellMetadata": {
      "byteLimit": 2048000,
      "rowLimit": 10000
     },
     "inputWidgets": {},
     "nuid": "acac3a1c-8a7b-4b52-b596-1085642e47d5",
     "showTitle": false,
     "title": ""
    }
   },
   "outputs": [],
   "source": [
    "from pyspark.sql.functions import sum,desc,avg,count,max,col"
   ]
  },
  {
   "cell_type": "code",
   "execution_count": 0,
   "metadata": {
    "application/vnd.databricks.v1+cell": {
     "cellMetadata": {
      "byteLimit": 2048000,
      "rowLimit": 10000
     },
     "inputWidgets": {},
     "nuid": "20a53156-2f43-4f25-9c68-78b45feba65b",
     "showTitle": false,
     "title": ""
    }
   },
   "outputs": [
    {
     "output_type": "stream",
     "name": "stdout",
     "output_type": "stream",
     "text": [
      "+----------+-------+-----+\n|student_id|subject|score|\n+----------+-------+-----+\n|         1|   Math|   85|\n|         2|Science|   92|\n|         3|   Math|   78|\n|         4|English|   88|\n|         5|Science|   95|\n|         6|   Math|   90|\n+----------+-------+-----+\n\n"
     ]
    }
   ],
   "source": [
    "from pyspark.sql import SparkSession\n",
    "\n",
    "spark=SparkSession.builder.appName(\"OrderAnalysis\").getOrCreate()\n",
    "data=[\n",
    "    (1,\"Math\",85),\n",
    "(2,\"Science\",92),\n",
    "(3,\"Math\",78),\n",
    "(4,\"English\",88),\n",
    "(5,\"Science\",95),\n",
    "(6,\"Math\",90)\n",
    "]\n",
    "col=[\"student_id\",\"subject\",\"score\"]\n",
    "df=spark.createDataFrame(data,col)\n",
    "df.show()"
   ]
  },
  {
   "cell_type": "markdown",
   "metadata": {
    "application/vnd.databricks.v1+cell": {
     "cellMetadata": {
      "byteLimit": 2048000,
      "rowLimit": 10000
     },
     "inputWidgets": {},
     "nuid": "f1c8ee7b-996d-49af-9d6d-2aff27d39797",
     "showTitle": false,
     "title": ""
    }
   },
   "source": [
    "<h3>𝐂𝐚𝐥𝐜𝐮𝐥𝐚𝐭𝐞 𝐭𝐡𝐞 𝐚𝐯𝐞𝐫𝐚𝐠𝐞 𝐬𝐜𝐨𝐫𝐞 𝐟𝐨𝐫 𝐞𝐚𝐜𝐡 𝐬𝐮𝐛𝐣𝐞𝐜𝐭.<\\h3>"
   ]
  },
  {
   "cell_type": "code",
   "execution_count": 0,
   "metadata": {
    "application/vnd.databricks.v1+cell": {
     "cellMetadata": {
      "byteLimit": 2048000,
      "rowLimit": 10000
     },
     "inputWidgets": {},
     "nuid": "c83310af-e96d-43ab-8f0a-0c87783d2e33",
     "showTitle": false,
     "title": ""
    }
   },
   "outputs": [
    {
     "output_type": "stream",
     "name": "stdout",
     "output_type": "stream",
     "text": [
      "+-------+-----------------+\n|subject|        avg_score|\n+-------+-----------------+\n|   Math|84.33333333333333|\n|Science|             93.5|\n|English|             88.0|\n+-------+-----------------+\n\n"
     ]
    }
   ],
   "source": [
    "df1=df.groupBy(\"subject\").agg(avg(\"score\").alias(\"avg_score\"))\n",
    "df1.show()"
   ]
  },
  {
   "cell_type": "markdown",
   "metadata": {
    "application/vnd.databricks.v1+cell": {
     "cellMetadata": {
      "byteLimit": 2048000,
      "rowLimit": 10000
     },
     "inputWidgets": {},
     "nuid": "00148141-242c-4c6d-a56d-97a667b7fc4e",
     "showTitle": false,
     "title": ""
    }
   },
   "source": [
    "<h3>𝐈𝐝𝐞𝐧𝐭𝐢𝐟𝐲 𝐭𝐡𝐞 𝐡𝐢𝐠𝐡𝐞𝐬𝐭 𝐬𝐜𝐨𝐫𝐞 𝐚𝐧𝐝 𝐢𝐭𝐬 𝐜𝐨𝐫𝐫𝐞𝐬𝐩𝐨𝐧𝐝𝐢𝐧𝐠 𝐬𝐭𝐮𝐝𝐞𝐧𝐭 𝐟𝐨𝐫 𝐞𝐚𝐜𝐡 𝐬𝐮𝐛𝐣𝐞𝐜𝐭<\\h3>"
   ]
  },
  {
   "cell_type": "code",
   "execution_count": 0,
   "metadata": {
    "application/vnd.databricks.v1+cell": {
     "cellMetadata": {
      "byteLimit": 2048000,
      "rowLimit": 10000
     },
     "inputWidgets": {},
     "nuid": "9296be7d-3180-4e39-bc42-50b021edc6c7",
     "showTitle": false,
     "title": ""
    }
   },
   "outputs": [
    {
     "output_type": "stream",
     "name": "stdout",
     "output_type": "stream",
     "text": [
      "+----------+-------+-----+\n|student_id|subject|score|\n+----------+-------+-----+\n|         4|English|   88|\n|         5|Science|   95|\n|         6|   Math|   90|\n+----------+-------+-----+\n\n"
     ]
    }
   ],
   "source": [
    "df1=df.groupBy(\"subject\").agg(max(\"score\").alias(\"mx_score\"))\n",
    "df2=df.join(df1,on=(\"subject\")).filter(col(\"score\")==col(\"mx_score\"))\n",
    "df2.select(\"student_id\",\"subject\",\"score\").show()"
   ]
  },
  {
   "cell_type": "markdown",
   "metadata": {
    "application/vnd.databricks.v1+cell": {
     "cellMetadata": {},
     "inputWidgets": {},
     "nuid": "aacce225-ccc5-481e-9d1f-47bcc9a3da15",
     "showTitle": false,
     "title": ""
    }
   },
   "source": [
    "<h3>𝐂𝐚𝐥𝐜𝐮𝐥𝐚𝐭𝐞 𝐭𝐡𝐞 𝐭𝐨𝐭𝐚𝐥 𝐧𝐮𝐦𝐛𝐞𝐫 𝐨𝐟 𝐬𝐭𝐮𝐝𝐞𝐧𝐭𝐬 𝐰𝐡𝐨 𝐭𝐨𝐨𝐤 𝐞𝐚𝐜𝐡 𝐬𝐮𝐛𝐣𝐞𝐜𝐭.<\\h3>"
   ]
  },
  {
   "cell_type": "code",
   "execution_count": 0,
   "metadata": {
    "application/vnd.databricks.v1+cell": {
     "cellMetadata": {
      "byteLimit": 2048000,
      "rowLimit": 10000
     },
     "inputWidgets": {},
     "nuid": "6b963716-f577-4fa3-a82a-de396686332c",
     "showTitle": false,
     "title": ""
    }
   },
   "outputs": [
    {
     "output_type": "stream",
     "name": "stdout",
     "output_type": "stream",
     "text": [
      "+-------+---------+\n|subject|no_of_std|\n+-------+---------+\n|   Math|        3|\n|Science|        2|\n|English|        1|\n+-------+---------+\n\n"
     ]
    }
   ],
   "source": [
    "df3=df.groupBy(\"subject\").agg(count(\"student_id\").alias(\"no_of_std\"))\n",
    "df3.show()"
   ]
  },
  {
   "cell_type": "markdown",
   "metadata": {
    "application/vnd.databricks.v1+cell": {
     "cellMetadata": {},
     "inputWidgets": {},
     "nuid": "1189f661-31b4-477c-88f2-26c00722fccc",
     "showTitle": false,
     "title": ""
    }
   },
   "source": [
    "<h3>𝐅𝐢𝐧𝐝 𝐭𝐡𝐞 𝐬𝐮𝐛𝐣𝐞𝐜𝐭(𝐬) 𝐰𝐢𝐭𝐡 𝐭𝐡𝐞 𝐡𝐢𝐠𝐡𝐞𝐬𝐭 𝐚𝐯𝐞𝐫𝐚𝐠𝐞 𝐬𝐜𝐨𝐫𝐞.<\\h3>"
   ]
  },
  {
   "cell_type": "code",
   "execution_count": 0,
   "metadata": {
    "application/vnd.databricks.v1+cell": {
     "cellMetadata": {
      "byteLimit": 2048000,
      "rowLimit": 10000
     },
     "inputWidgets": {},
     "nuid": "8b3f90d6-501d-473d-9fb3-10f49f38781d",
     "showTitle": false,
     "title": ""
    }
   },
   "outputs": [
    {
     "output_type": "stream",
     "name": "stdout",
     "output_type": "stream",
     "text": [
      "+-------+---------+\n|subject|avg_score|\n+-------+---------+\n|Science|     93.5|\n+-------+---------+\n\n"
     ]
    }
   ],
   "source": [
    "df1=df.groupBy(\"subject\").agg(avg(\"score\").alias(\"avg_score\")).orderBy(col(\"avg_score\").desc()).limit(1)\n",
    "df1.show()"
   ]
  }
 ],
 "metadata": {
  "application/vnd.databricks.v1+notebook": {
   "dashboards": [],
   "language": "python",
   "notebookMetadata": {
    "pythonIndentUnit": 4
   },
   "notebookName": "Day 06 of #30daysofPyspark",
   "widgets": {}
  }
 },
 "nbformat": 4,
 "nbformat_minor": 0
}
