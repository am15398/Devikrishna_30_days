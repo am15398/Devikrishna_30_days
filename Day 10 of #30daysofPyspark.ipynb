{
 "cells": [
  {
   "cell_type": "code",
   "execution_count": 0,
   "metadata": {
    "application/vnd.databricks.v1+cell": {
     "cellMetadata": {
      "byteLimit": 2048000,
      "rowLimit": 10000
     },
     "inputWidgets": {},
     "nuid": "acac3a1c-8a7b-4b52-b596-1085642e47d5",
     "showTitle": false,
     "title": ""
    }
   },
   "outputs": [],
   "source": [
    "from pyspark.sql.functions import unix_timestamp,lag,when,col,expr,row_number,lit,concat,lit,sum\n",
    "from pyspark.sql.window import Window\n",
    "from pyspark.sql.types import StructType,StructField,StringType,TimestampType\n",
    "from datetime import datetime"
   ]
  },
  {
   "cell_type": "code",
   "execution_count": 0,
   "metadata": {
    "application/vnd.databricks.v1+cell": {
     "cellMetadata": {
      "byteLimit": 2048000,
      "rowLimit": 10000
     },
     "inputWidgets": {},
     "nuid": "20a53156-2f43-4f25-9c68-78b45feba65b",
     "showTitle": false,
     "title": ""
    }
   },
   "outputs": [
    {
     "output_type": "stream",
     "name": "stdout",
     "output_type": "stream",
     "text": [
      "+------+-------------------+\n|userid|          timestamp|\n+------+-------------------+\n| user1|2023-08-26 10:10:00|\n| user1|2023-08-26 10:10:25|\n| user2|2023-08-26 12:00:00|\n| user2|2023-08-26 12:10:00|\n| user1|2023-08-26 14:30:00|\n| user1|2023-08-26 16:00:00|\n| user2|2023-08-26 16:30:00|\n| user1|2023-08-26 18:00:00|\n+------+-------------------+\n\n"
     ]
    }
   ],
   "source": [
    "from pyspark.sql import SparkSession\n",
    "\n",
    "spark=SparkSession.builder.appName(\"user_info\").getOrCreate()\n",
    "\n",
    "\n",
    "data = [\n",
    "    (\"user1\", \"2023-08-26 10:10:00\"),\n",
    "    (\"user1\", \"2023-08-26 10:10:25\"),\n",
    "    (\"user2\", \"2023-08-26 12:00:00\"),\n",
    "    (\"user2\", \"2023-08-26 12:10:00\"),\n",
    "    (\"user1\", \"2023-08-26 14:30:00\"),\n",
    "    (\"user1\", \"2023-08-26 16:00:00\"),\n",
    "    (\"user2\", \"2023-08-26 16:30:00\"),\n",
    "    (\"user1\", \"2023-08-26 18:00:00\"),\n",
    "]\n",
    "schema = StructType([\n",
    "    StructField(\"userid\", StringType(), nullable=False),\n",
    "    StructField(\"timestamp\", TimestampType(), nullable=False),])\n",
    "\n",
    "rows=[(row[0],datetime.strptime(row[1],\"%Y-%m-%d %H:%M:%S\")) for row in data]\n",
    "\n",
    "df=spark.createDataFrame(rows,schema=schema)\n",
    "df.show()\n"
   ]
  },
  {
   "cell_type": "code",
   "execution_count": 0,
   "metadata": {
    "application/vnd.databricks.v1+cell": {
     "cellMetadata": {
      "byteLimit": 2048000,
      "rowLimit": 10000
     },
     "inputWidgets": {},
     "nuid": "ee550dd3-ca11-4f95-b2e0-38d7c1f206c1",
     "showTitle": false,
     "title": ""
    }
   },
   "outputs": [
    {
     "output_type": "stream",
     "name": "stdout",
     "output_type": "stream",
     "text": [
      "+------+-------------------+-----------+--------------+\n|userid|          timestamp|session_gap|     sessionid|\n+------+-------------------+-----------+--------------+\n| user1|2023-08-26 10:10:00|       null|user1_session1|\n| user1|2023-08-26 10:10:25|         25|user1_session2|\n| user1|2023-08-26 14:30:00|      15575|          null|\n| user1|2023-08-26 16:00:00|       5400|          null|\n| user1|2023-08-26 18:00:00|       7200|          null|\n| user2|2023-08-26 12:00:00|       null|user2_session1|\n| user2|2023-08-26 12:10:00|        600|          null|\n| user2|2023-08-26 16:30:00|      15600|          null|\n+------+-------------------+-----------+--------------+\n\n"
     ]
    }
   ],
   "source": [
    "win=Window().partitionBy(\"userid\").orderBy(\"timestamp\")\n",
    "df=df.withColumn(\"session_gap\",unix_timestamp(\"timestamp\")-unix_timestamp(lag(\"timestamp\").over(win)))\n",
    "\n",
    "#df.show()\n",
    "df=df.withColumn(\"sessionid\",when(col(\"session_gap\")>30,None).\\\n",
    "    otherwise(concat(col(\"userid\"),lit(\"_session\"),row_number().\\\n",
    "        over(Window.partitionBy(\"userid\").orderBy(\"timestamp\")).cast(\"string\"))))\n",
    "df.show()"
   ]
  },
  {
   "cell_type": "markdown",
   "metadata": {
    "application/vnd.databricks.v1+cell": {
     "cellMetadata": {},
     "inputWidgets": {},
     "nuid": "cfbe9021-6f03-4a0a-af60-b614506baeb7",
     "showTitle": false,
     "title": ""
    }
   },
   "source": [
    "<h3>𝐂𝐚𝐥𝐜𝐮𝐥𝐚𝐭𝐞 𝐭𝐨𝐭𝐚𝐥 𝐭𝐢𝐦𝐞 𝐬𝐩𝐞𝐧𝐭 𝐩𝐞𝐫 𝐬𝐞𝐬𝐬𝐢𝐨𝐧</h3>"
   ]
  },
  {
   "cell_type": "code",
   "execution_count": 0,
   "metadata": {
    "application/vnd.databricks.v1+cell": {
     "cellMetadata": {
      "byteLimit": 2048000,
      "rowLimit": 10000
     },
     "inputWidgets": {},
     "nuid": "63d9dd6c-61f6-41a6-a63f-b0d3fc8395bd",
     "showTitle": false,
     "title": ""
    }
   },
   "outputs": [
    {
     "output_type": "stream",
     "name": "stdout",
     "output_type": "stream",
     "text": [
      "+------+-------------------+-----------+--------------+-------------------+----------------+\n|userid|          timestamp|session_gap|     sessionid|      session_start|session_duration|\n+------+-------------------+-----------+--------------+-------------------+----------------+\n| user1|2023-08-26 10:10:00|       null|user1_session1|               null|               0|\n| user1|2023-08-26 10:10:25|         25|user1_session2|2023-08-26 10:10:00|              25|\n| user1|2023-08-26 14:30:00|      15575|          null|               null|               0|\n| user1|2023-08-26 16:00:00|       5400|          null|               null|               0|\n| user1|2023-08-26 18:00:00|       7200|          null|               null|               0|\n| user2|2023-08-26 12:00:00|       null|user2_session1|               null|               0|\n| user2|2023-08-26 12:10:00|        600|          null|               null|               0|\n| user2|2023-08-26 16:30:00|      15600|          null|               null|               0|\n+------+-------------------+-----------+--------------+-------------------+----------------+\n\n"
     ]
    }
   ],
   "source": [
    "df=df.withColumn(\"session_start\",when(col(\"session_gap\")>30,None).otherwise(lag(\"timestamp\")\\\n",
    "    .over(Window.partitionBy(\"userid\").orderBy(\"timestamp\"))))\n",
    "df=df.withColumn(\"session_duration\",when(col(\"session_start\").isNotNull(),col(\"timestamp\").cast(\"long\")-col(\"session_start\").cast(\"long\")).otherwise(0))\n",
    "df.show()"
   ]
  },
  {
   "cell_type": "markdown",
   "metadata": {
    "application/vnd.databricks.v1+cell": {
     "cellMetadata": {},
     "inputWidgets": {},
     "nuid": "149e89a4-74fe-4bb9-8d9a-7ab74c0687c0",
     "showTitle": false,
     "title": ""
    }
   },
   "source": [
    "<h3>𝐂𝐚𝐥𝐜𝐮𝐥𝐚𝐭𝐞 𝐭𝐨𝐭𝐚𝐥 𝐬𝐞𝐬𝐬𝐢𝐨𝐧 𝐭𝐢𝐦𝐞 𝐩𝐞𝐫 𝐮𝐬𝐞𝐫.</h3>"
   ]
  },
  {
   "cell_type": "code",
   "execution_count": 0,
   "metadata": {
    "application/vnd.databricks.v1+cell": {
     "cellMetadata": {
      "byteLimit": 2048000,
      "rowLimit": 10000
     },
     "inputWidgets": {},
     "nuid": "338e6ea5-0d62-4440-91d5-beeb1ab30e54",
     "showTitle": false,
     "title": ""
    }
   },
   "outputs": [
    {
     "output_type": "stream",
     "name": "stdout",
     "output_type": "stream",
     "text": [
      "+------+-------------------+-----------+--------------+-------------------+----------------+-----------------------+\n|userid|          timestamp|session_gap|     sessionid|      session_start|session_duration|total_user_session_time|\n+------+-------------------+-----------+--------------+-------------------+----------------+-----------------------+\n| user1|2023-08-26 10:10:00|       null|user1_session1|               null|               0|                     25|\n| user1|2023-08-26 10:10:25|         25|user1_session2|2023-08-26 10:10:00|              25|                     25|\n| user1|2023-08-26 14:30:00|      15575|          null|               null|               0|                     25|\n| user1|2023-08-26 16:00:00|       5400|          null|               null|               0|                     25|\n| user1|2023-08-26 18:00:00|       7200|          null|               null|               0|                     25|\n| user2|2023-08-26 12:00:00|       null|user2_session1|               null|               0|                      0|\n| user2|2023-08-26 12:10:00|        600|          null|               null|               0|                      0|\n| user2|2023-08-26 16:30:00|      15600|          null|               null|               0|                      0|\n+------+-------------------+-----------+--------------+-------------------+----------------+-----------------------+\n\n+------+-------------------+-----------+--------------+-------------------+----------------+-----------------------+\n|userid|          timestamp|session_gap|     sessionid|      session_start|session_duration|total_user_session_time|\n+------+-------------------+-----------+--------------+-------------------+----------------+-----------------------+\n| user1|2023-08-26 10:10:00|       null|user1_session1|               null|               0|                      0|\n| user1|2023-08-26 10:10:25|         25|user1_session2|2023-08-26 10:10:00|              25|                     25|\n| user1|2023-08-26 14:30:00|      15575|          null|               null|               0|                     25|\n| user1|2023-08-26 16:00:00|       5400|          null|               null|               0|                     25|\n| user1|2023-08-26 18:00:00|       7200|          null|               null|               0|                     25|\n| user2|2023-08-26 12:00:00|       null|user2_session1|               null|               0|                      0|\n| user2|2023-08-26 12:10:00|        600|          null|               null|               0|                      0|\n| user2|2023-08-26 16:30:00|      15600|          null|               null|               0|                      0|\n+------+-------------------+-----------+--------------+-------------------+----------------+-----------------------+\n\n"
     ]
    }
   ],
   "source": [
    "df.withColumn(\"total_user_session_time\",sum(\"session_duration\").over(Window.partitionBy(\"userid\"))).show()\n",
    "df.withColumn(\"total_user_session_time\",sum(\"session_duration\").over(Window.partitionBy(\"userid\").orderBy(\"timestamp\"))).show()"
   ]
  }
 ],
 "metadata": {
  "application/vnd.databricks.v1+notebook": {
   "dashboards": [],
   "language": "python",
   "notebookMetadata": {
    "pythonIndentUnit": 4
   },
   "notebookName": "Day 10 of #30daysofPyspark",
   "widgets": {}
  }
 },
 "nbformat": 4,
 "nbformat_minor": 0
}
